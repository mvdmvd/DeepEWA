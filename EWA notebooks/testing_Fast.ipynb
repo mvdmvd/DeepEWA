{
 "cells": [
  {
   "cell_type": "code",
   "execution_count": 1,
   "metadata": {},
   "outputs": [],
   "source": [
    "include(\"/Users/meesvandartel/Desktop/Coursework/CGT/DeepEWA/FastEWA.jl\")\n",
    "using .fEWA, ProgressMeter"
   ]
  },
  {
   "cell_type": "markdown",
   "metadata": {},
   "source": [
    "#### Special Cases:\n",
    "$$ \n",
    "\\begin{aligned}\n",
    "&\\text{best response dynamics:  }\\alpha=1, \\quad \\beta = +\\infty, \\quad \\delta = 1, \\quad \\forall \\kappa \\in [0,1] \\\\\n",
    "&\\text{reinforcement learning:  }\\delta = 0, \\quad \\forall \\kappa \\in [0,1] \\\\\n",
    "&\\quad\\text{average RL: } \\quad \\kappa=0, \\quad \\text{cummulative RL: } \\quad \\kappa = 1 \\\\\n",
    "&\\text{ficticious play:  }\\alpha=0, \\quad \\beta = +\\infty, \\quad \\delta = 1, \\quad  \\kappa = 0\\\\\n",
    "&\\quad\\text{stochastic ficticious play:  } \\beta < +\\infty\\\\\n",
    "&\\text{replicator dynamics:  } \\beta \\rightarrow 0, \\quad \\alpha = 0, \\quad \\delta = 1, \\quad \\forall \\kappa \\in (0,1]\\\\\n",
    "&\\text{logit dynamics:  } \\alpha = 1, \\quad \\delta = 1,\\quad \\kappa = 1\n",
    "\\end{aligned}\n",
    "$$ "
   ]
  },
  {
   "cell_type": "code",
   "execution_count": 18,
   "metadata": {},
   "outputs": [
    {
     "name": "stderr",
     "output_type": "stream",
     "text": [
      "\u001b[32mProgress: 100%|█████████████████████████████████████████| Time: 0:00:05\u001b[39m\n"
     ]
    }
   ],
   "source": [
    "\n",
    "coord = [[[5 1; 1 4], [5 1; 1 4]], fEWA.find_NE_mixed([[5 1; 1 4], [5 1; 1 4]])]\n",
    "\n",
    "dom = [[[5 0; 20 1], [5 0; 20 1]], fEWA.find_NE_mixed([[5 0; 20 1], [5 0; 20 1]])]\n",
    "\n",
    "cyclic = [[[5 1;1 4],[-5 1; 1 -4]], fEWA.find_NE_mixed([[5 1;1 4],[-5 1; 1 -4]])]\n",
    "\n",
    "params = fEWA.init_EWA(;\n",
    "    α=0.0, κ=0.0, δ=1.0, β=2.0,\n",
    "    game=coord)\n",
    "\n",
    "@showprogress for iter in 1:1000\n",
    "    for times in 1:6\n",
    "        sₜ, σ, Qₜ, NE_found  = fEWA.Run_FastEWA(params)\n",
    "    end\n",
    "end"
   ]
  },
  {
   "cell_type": "code",
   "execution_count": 17,
   "metadata": {},
   "outputs": [
    {
     "data": {
      "text/plain": [
       "([1, 1], [[0.7912087912087912, 0.20879120879120883], [0.7912087912087912, 0.20879120879120883]], [[5.0, 1.0], [5.0, 1.0]], false)"
      ]
     },
     "execution_count": 17,
     "metadata": {},
     "output_type": "execute_result"
    }
   ],
   "source": [
    "# payoff matrixes\n",
    "coord = [[[5 1; 1 4], [5 1; 1 4]], fEWA.find_NE_mixed([[5 1; 1 4], [5 1; 1 4]])]\n",
    "\n",
    "dom = [[[5 0; 20 1], [5 0; 20 1]], fEWA.find_NE_mixed([[5 0; 20 1], [5 0; 20 1]])]\n",
    "\n",
    "cyclic = [[[5 1;1 4],[-5 1; 1 -4]], fEWA.find_NE_mixed([[5 1;1 4],[-5 1; 1 -4]])]\n",
    "\n",
    "params = fEWA.init_EWA(;\n",
    "    α=0.0, κ=0.0, δ=1.0, β=2.0,es \n",
    "    game=coord)\n",
    "\n",
    "sₜ, σ, Qₜ, NE_found = fEWA.Run_FastEWA(params)\n",
    "\n"
   ]
  }
 ],
 "metadata": {
  "kernelspec": {
   "display_name": "Julia 1.11.4",
   "language": "julia",
   "name": "julia-1.11"
  },
  "language_info": {
   "file_extension": ".jl",
   "mimetype": "application/julia",
   "name": "julia",
   "version": "1.11.4"
  }
 },
 "nbformat": 4,
 "nbformat_minor": 2
}
