{
 "cells": [
  {
   "cell_type": "code",
   "execution_count": 1,
   "metadata": {},
   "outputs": [],
   "source": [
    "include(\"/Users/meesvandartel/Desktop/Coursework/CGT/DeepEWA/DeepEWA_funs&structs.jl\")\n",
    "using .EWA"
   ]
  },
  {
   "cell_type": "markdown",
   "metadata": {},
   "source": [
    "#### Special Cases:\n",
    "$$ \n",
    "\\begin{aligned}\n",
    "&\\text{best response dynamics:  }\\alpha=1, \\quad \\beta = +\\infty, \\quad \\delta = 1, \\quad \\forall \\kappa \\in [0,1] \\\\\n",
    "&\\text{reinforcement learning:  }\\delta = 0, \\quad \\forall \\kappa \\in [0,1] \\\\\n",
    "&\\quad\\text{average RL: } \\quad \\kappa=0, \\quad \\text{cummulative RL: } \\quad \\kappa = 1 \\\\\n",
    "&\\text{ficticious play:  }\\alpha=0, \\quad \\beta = +\\infty, \\quad \\delta = 1, \\quad  \\kappa = 0\\\\\n",
    "&\\quad\\text{stochastic ficticious play:  } \\beta < +\\infty\\\\\n",
    "&\\text{replicator dynamics:  } \\beta \\rightarrow 0, \\quad \\alpha = 0, \\quad \\delta = 1, \\quad \\forall \\kappa \\in (0,1]\\\\\n",
    "&\\text{logit dynamics:  } \\alpha = 1, \\quad \\delta = 1,\\quad \\kappa = 1\n",
    "\\end{aligned}\n",
    "$$ "
   ]
  },
  {
   "cell_type": "code",
   "execution_count": 2,
   "metadata": {},
   "outputs": [
    {
     "name": "stdout",
     "output_type": "stream",
     "text": [
      "Prior Q: [[0.0, 0.0], [0.0, 0.0]], prior N: 0.0\n",
      "Iter 2: σ=[[1.0, 0.0], [0.0, 1.0]], s=[1, 2], Q=[[3.0, 2.5], [3.0, 2.5]], N=2.0\n",
      "Iter 4: σ=[[1.0, 0.0], [1.0, 0.0]], s=[1, 1], Q=[[4.0, 1.75], [4.0, 1.75]], N=4.0\n",
      "Iter 6: σ=[[1.0, 0.0], [1.0, 0.0]], s=[1, 1], Q=[[4.333333333333333, 1.5], [4.333333333333333, 1.5]], N=6.0\n",
      "Iter 8: σ=[[1.0, 0.0], [1.0, 0.0]], s=[1, 1], Q=[[4.5, 1.375], [4.5, 1.375]], N=8.0\n",
      "Iter 10: σ=[[1.0, 0.0], [1.0, 0.0]], s=[1, 1], Q=[[4.6, 1.3], [4.6, 1.3]], N=10.0\n",
      "Iter 50: σ=[[1.0, 0.0], [1.0, 0.0]], s=[1, 1], Q=[[4.919999999999999, 1.06], [4.919999999999999, 1.06]], N=50.0\n",
      "Iter 100: σ=[[1.0, 0.0], [1.0, 0.0]], s=[1, 1], Q=[[4.959999999999997, 1.0299999999999998], [4.959999999999997, 1.0299999999999998]], N=100.0\n",
      "Converged at iter: 103\n",
      "________________________________________________________________________________________________________________________________________________\n",
      "Q*: [[4.961538461538459, 1.0288461538461535], [4.961538461538459, 1.0288461538461535]], N*: 104.0\n",
      "Game: [[5 1; 1 4], [5 1; 1 4]]\n",
      "Converged on Pure Nash!: [1, 1]\n",
      "True Nash Equilibria: [[1, 1], [2, 2]] \n"
     ]
    }
   ],
   "source": [
    "# payoff matrixes\n",
    "coord = [[5 1; 1 4], [5 1; 1 4]]\n",
    "pris = [[5 0; 20 1], [5 0; 20 1]]\n",
    "pennies = [[-1 1; 1 -1], [1 -1; -1 1]]\n",
    "cyclic = [[5 1;1 4],[-5 1; 1 -4]]\n",
    "mixed = [[9 2;3 6], [1 7; 8 4]] \n",
    "mixed_2 = [[2 1;1 4],[-3 1; 2 -1]] \n",
    "\n",
    "payoff = coord # game\n",
    "params = EWA.init_EWA(\n",
    "Q₀=[[0.0, 0.0], [0.0, 0.0]], N₀=0.0, # priors\n",
    "α=0.0, δ=1.0, κ=0.0, β=Inf64, # params\n",
    "\n",
    "payoff=payoff)       \n",
    "Qₜ, Nₜ, sₜ, σₜ, lim_chaos, NE_found, NE = EWA.run_EWA_pure(params; print = true)\n",
    "\n",
    "println(\"________________________________________________________________________________________________________________________________________________\")\n",
    "println(\"Q*: $Qₜ, N*: $Nₜ\")\n",
    "println(\"Game: $payoff\")\n",
    "if lim_chaos == true\n",
    "    println(\"Limit cycles and chaos!!!\")\n",
    "elseif NE_found == true\n",
    "    println(\"Converged on Pure Nash!: $sₜ\")\n",
    "    println(\"True Nash Equilibria: $NE \")\n",
    "else\n",
    "    println(\"Converged go non-NE fixed Point : $sₜ\")\n",
    "    println(\"All Nash Equilibria: $NE \")\n",
    "end"
   ]
  },
  {
   "cell_type": "code",
   "execution_count": 3,
   "metadata": {},
   "outputs": [
    {
     "data": {
      "text/plain": [
       "2-element Vector{Vector{Float64}}:\n",
       " [1.0, 0.0]\n",
       " [0.3, 0.7]"
      ]
     },
     "execution_count": 3,
     "metadata": {},
     "output_type": "execute_result"
    }
   ],
   "source": [
    "\n",
    "\n",
    "μ₁, μ₂ = [99, 34] ./ (100 + 1)\n",
    "σ = [round.([μ₁, 1 - μ₁], digits=1), round.([μ₂, 1 - μ₂], digits=1)]"
   ]
  }
 ],
 "metadata": {
  "kernelspec": {
   "display_name": "Julia 1.11.4",
   "language": "julia",
   "name": "julia-1.11"
  },
  "language_info": {
   "file_extension": ".jl",
   "mimetype": "application/julia",
   "name": "julia",
   "version": "1.11.4"
  }
 },
 "nbformat": 4,
 "nbformat_minor": 2
}
