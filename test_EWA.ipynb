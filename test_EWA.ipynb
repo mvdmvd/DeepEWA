{
 "cells": [
  {
   "cell_type": "code",
   "execution_count": 5,
   "metadata": {},
   "outputs": [
    {
     "name": "stderr",
     "output_type": "stream",
     "text": [
      "WARNING: replacing module EWA.\n"
     ]
    }
   ],
   "source": [
    "include(\"/Users/meesvandartel/Desktop/Coursework/CGT/EWA_imp.jl\")\n",
    "using .EWA, Distributions"
   ]
  },
  {
   "cell_type": "markdown",
   "metadata": {},
   "source": [
    "\n",
    "#### Attraction updating function:\n",
    "$$\n",
    "Q_{i}^{\\mu}(t) = \\frac{(1-\\alpha) N(t-1) Q_{i}^{\\mu}(t-1)}{N(t)} + \\frac{\\left[ \\delta + (1-\\delta) \\mathbb{I}(s_i^\\mu,s^{-\\mu}(t)) \\right] \\Pi^\\mu(s_i^\\mu, s^{-\\mu}(t))}{N(t)}\n",
    "$$\n",
    "\n",
    "#### Mixed strategy determination:\n",
    "$$\n",
    "\\sigma^{\\mu}(t)=\\frac{e^{\\beta Q_1^R (t)}}{e^{\\beta Q_1^R (t)} + e^{\\beta Q_2^R (t)}}\n",
    "$$\n",
    "\n",
    "\n",
    "#### Special Cases:\n",
    "$$ \n",
    "\\begin{aligned}\n",
    "&\\text{best response dynamics:  }\\alpha=1, \\quad \\beta = +\\infty, \\quad \\delta = 1, \\quad \\forall \\kappa \\in [0,1] \\\\\n",
    "&\\text{reinforcement learning:  }\\delta = 0, \\quad \\forall \\kappa \\in [0,1] \\\\\n",
    "&\\quad\\text{average RL: } \\quad \\kappa=0, \\quad \\text{cummulative RL: } \\quad \\kappa = 1 \\\\\n",
    "&\\text{ficticious play:  }\\alpha=0, \\quad \\beta = +\\infty, \\quad \\delta = 1, \\quad  \\kappa = 0\\\\\n",
    "&\\quad\\text{stochastic ficticious play:  } \\beta < +\\infty\\\\\n",
    "&\\text{replicator dynamics:  } \\beta \\rightarrow 0, \\quad \\alpha = 0, \\quad \\delta = 1, \\quad \\forall \\kappa \\in (0,1]\\\\\n",
    "&\\text{logit dynamics:  } \\alpha = 1, \\quad \\delta = 1,\\quad \\kappa = 1\n",
    "\\end{aligned}\n",
    "$$ "
   ]
  },
  {
   "cell_type": "code",
   "execution_count": 6,
   "metadata": {},
   "outputs": [
    {
     "name": "stdout",
     "output_type": "stream",
     "text": [
      "Prior Q: [[0.0, 0.0], [0.0, 0.0]], prior N: 0.0\n",
      "Iter 1: σ=[[0.5, 0.5], [0.5, 0.5]], s=[1, 2], Q=[[1.0, -1.0], [1.0, -1.0]], N=1.0\n",
      "Iter 2: σ=[[1.0, 0.0], [1.0, 0.0]], s=[1, 1], Q=[[0.0, 0.0], [1.0, -1.0]], N=2.0\n",
      "Iter 3: σ=[[0.5, 0.5], [1.0, 0.0]], s=[2, 1], Q=[[-0.3333333333333333, 0.3333333333333333], [0.3333333333333333, -0.3333333333333333]], N=3.0\n",
      "Iter 4: σ=[[3.338237795365022e-15, 0.9999999999999967], [0.9999999999999967, 3.3306690738754696e-15]], s=[2, 1], Q=[[-0.5, 0.5], [0.0, 0.0]], N=4.0\n",
      "Iter 5: σ=[[1.9287498479639178e-22, 1.0], [0.5, 0.5]], s=[2, 2], Q=[[-0.2, 0.2], [-0.2, 0.2]], N=5.0\n",
      "Iter 6: σ=[[2.061153618190205e-9, 0.9999999979388464], [2.061153618190205e-9, 0.9999999979388464]], s=[2, 2], Q=[[0.0, 0.0], [-0.3333333333333333, 0.3333333333333333]], N=6.0\n",
      "Iter 7: σ=[[0.5, 0.5], [3.338237795365022e-15, 0.9999999999999967]], s=[1, 2], Q=[[0.14285714285714285, -0.14285714285714285], [-0.14285714285714285, 0.14285714285714285]], N=7.0\n",
      "Iter 8: σ=[[0.9999993751254396, 6.248745604287009e-7], [6.248745604778489e-7, 0.9999993751254396]], s=[1, 2], Q=[[0.25, -0.25], [0.0, 0.0]], N=8.0\n",
      "Iter 9: σ=[[0.999999999986112, 1.3888001859641008e-11], [0.5, 0.5]], s=[1, 2], Q=[[0.3333333333333333, -0.3333333333333333], [0.1111111111111111, -0.1111111111111111]], N=9.0\n",
      "Iter 10: σ=[[0.9999999999999967, 3.3306690738754696e-15], [0.999985054884835, 1.4945115164977096e-5]], s=[1, 1], Q=[[0.2, -0.2], [0.2, -0.2]], N=10.0\n",
      "Iter 500: σ=[[0.002000361799775288, 0.9979996382002247], [0.06880383840340493, 0.9311961615965951]], s=[2, 2], Q=[[-0.05999999999999996, 0.05999999999999996], [-0.02799999999999994, 0.02799999999999994]], N=500.0\n",
      "Iter 1000: σ=[[0.9802354700513115, 0.019764529948688492], [0.0909324647445356, 0.9090675352554644]], s=[1, 2], Q=[[0.04000000000000003, -0.04000000000000003], [-0.021999999999999985, 0.021999999999999985]], N=1000.0\n",
      "Iter 5000: σ=[[0.8053829436925627, 0.1946170563074373], [0.6130360052354069, 0.3869639947645931]], s=[1, 2], Q=[[0.014399999999999994, -0.014399999999999994], [0.004800000000000007, -0.004800000000000007]], N=5000.0\n",
      "Iter 10000: σ=[[0.166566259807632, 0.8334337401923679], [0.3078732336316198, 0.6921267663683802]], s=[2, 2], Q=[[-0.01600000000000003, 0.01600000000000003], [-0.008200000000000032, 0.008200000000000032]], N=10000.0\n",
      "_____________________________________________________________________________\n",
      "Q*: [[0.0002629997370002597, -0.0002629997370002597], [-0.001096998903001108, 0.001096998903001108]], N*: 1.000001e6\n",
      "Converged mixed strategy: [[0.5065996166987145, 0.49340038330128555], [0.4725775449836338, 0.5274224550163662]]\n",
      "Frequencies of player 1: s₁ = 0.499451, s₂ = 0.500549\n",
      "Frequencies of player 2: s₁ = 0.499868, s₂ = 0.500132\n"
     ]
    }
   ],
   "source": [
    "# payoff matrixes\n",
    "coord = [[5 1; 1 4], [5 1; 1 4]]\n",
    "pris = [[5 20; 0 1], [5 20; 0 1]]\n",
    "pennies = [[-1 1; 1 -1], [1 -1; -1 1]]\n",
    "mixed_unique = [[9 2;3 7], [1 7; 8 4]] # The unique mixed NE is [[0.3, 0.7], [0.4, 0.6]] (analytically)\n",
    "\n",
    "params = EWA.init_EWA(\n",
    "Q₀=[[0.0, 0.0], [0.0, 0.0]], N₀=0.0, # priors\n",
    "\n",
    "α=0.0, δ=1.0, κ=0.0, β=50.0,        # params\n",
    "\n",
    "payoff =    pennies     )       # game\n",
    "Qₜ, Nₜ, sₜ, σₜ, Q_hist, N_hist, s_hist, σ_hist = EWA.run_EWA(params)\n",
    "\n",
    "println(\"_____________________________________________________________________________\")\n",
    "println(\"Q*: $Qₜ, N*: $Nₜ\")\n",
    "println(\"Converged mixed strategy: $σₜ\")\n",
    "\n",
    "p₁ = sum(s[1]==1 for s in s_hist) / length(s_hist)\n",
    "p₂ = 1-p₁\n",
    "println(\"Frequencies of player 1: s₁ = $p₁, s₂ = $p₂\")\n",
    "\n",
    "p₃ = sum(s[2]==1 for s in s_hist) / length(s_hist)\n",
    "p₄ = 1-p₃\n",
    "println(\"Frequencies of player 2: s₁ = $p₃, s₂ = $p₄\")\n"
   ]
  },
  {
   "cell_type": "markdown",
   "metadata": {},
   "source": []
  }
 ],
 "metadata": {
  "kernelspec": {
   "display_name": "Julia 1.11.4",
   "language": "julia",
   "name": "julia-1.11"
  },
  "language_info": {
   "file_extension": ".jl",
   "mimetype": "application/julia",
   "name": "julia",
   "version": "1.11.4"
  }
 },
 "nbformat": 4,
 "nbformat_minor": 2
}
