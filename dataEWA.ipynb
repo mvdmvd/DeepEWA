{
 "cells": [
  {
   "cell_type": "code",
   "execution_count": 2,
   "metadata": {},
   "outputs": [],
   "source": [
    "include(\"/Users/meesvandartel/Desktop/Coursework/CGT/DeepEWA/FastEWA.jl\")\n",
    "using Flux, .fEWA, Random, IterTools, ProgressMeter"
   ]
  },
  {
   "cell_type": "code",
   "execution_count": 7,
   "metadata": {},
   "outputs": [
    {
     "name": "stdout",
     "output_type": "stream",
     "text": [
      "Finished\n"
     ]
    }
   ],
   "source": [
    "# this data will be for this specific coordination game with 2 NE and 1 mixed NE.\n",
    "coord = [[[5 1; 1 4], [5 1; 1 4]], fEWA.find_NE_mixed([[5 1; 1 4], [5 1; 1 4]])]\n",
    "points = 1000000 # N of observations to generate\n",
    "\n",
    "α_grid = rand(0.0:0.0001:1.0, points) \n",
    "κ_grid = rand(0.0:0.0001:1.0, points)\n",
    "δ_grid = rand(0.0:0.0001:1.0, points)\n",
    "β_grid = exp.(rand(0.0:0.001:4.0, points)) # take exp to get the lim to infty effect since β is unbounded above\n",
    "combs = [[α_grid[i], κ_grid[i], δ_grid[i], β_grid[i]] for i in 1:points]\n",
    "subset=Int64(floor(0.6*length(combs))) #60/40 train test split, since we have many obs\n",
    "\n",
    "x_train, x_test = combs[1:subset], combs[(subset+1):end]\n",
    "y_train, y_test = Vector{Tuple{Array{Int}, Array{Array{Float64}}, Array{Array{Float64}}, Bool}}(undef, length(x_train)), Vector{Tuple{Array{Int}, Array{Array{Float64}}, Array{Array{Float64}}, Bool}}(undef, length(x_test))\n",
    "println(\"Finished\")"
   ]
  },
  {
   "cell_type": "code",
   "execution_count": 6,
   "metadata": {},
   "outputs": [
    {
     "name": "stderr",
     "output_type": "stream",
     "text": [
      "\u001b[32mProgress: 100%|█████████████████████████████████████████| Time: 0:02:59\u001b[39m9:26\u001b[39m\n",
      "\u001b[32mProgress: 100%|█████████████████████████████████████████| Time: 0:02:02\u001b[39m\n"
     ]
    }
   ],
   "source": [
    "# should take about 6min for 1mil obs\n",
    "@showprogress for i in 1:length(x_train)\n",
    "    comb=x_train[i]\n",
    "    α, κ, δ, β = comb\n",
    "    params = fEWA.init_EWA(;α=α, κ=κ, δ=δ, β=β,game=coord)\n",
    "    sₜ, σ, Qₜ, NE_found  = fEWA.Run_FastEWA(params)\n",
    "    y_train[i] = (sₜ, σ, Qₜ, NE_found)\n",
    "end\n",
    "\n",
    "@showprogress for i in 1:length(x_test)\n",
    "    comb = x_test[i]\n",
    "    α, κ, δ, β = comb\n",
    "    params = fEWA.init_EWA(;α=α, κ=κ, δ=δ, β=β,game=coord)\n",
    "    sₜ, σ, Qₜ, NE_found  = fEWA.Run_FastEWA(params)\n",
    "    y_test[i] = (sₜ, σ, Qₜ, NE_found)\n",
    "end"
   ]
  }
 ],
 "metadata": {
  "kernelspec": {
   "display_name": "Julia 1.11.4",
   "language": "julia",
   "name": "julia-1.11"
  },
  "language_info": {
   "file_extension": ".jl",
   "mimetype": "application/julia",
   "name": "julia",
   "version": "1.11.4"
  }
 },
 "nbformat": 4,
 "nbformat_minor": 2
}
