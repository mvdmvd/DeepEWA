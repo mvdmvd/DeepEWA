{
 "cells": [
  {
   "cell_type": "code",
   "execution_count": 19,
   "id": "2e051ec9",
   "metadata": {},
   "outputs": [
    {
     "name": "stderr",
     "output_type": "stream",
     "text": [
      "WARNING: replacing module pEWA.\n"
     ]
    },
    {
     "data": {
      "text/plain": [
       "10000"
      ]
     },
     "execution_count": 19,
     "metadata": {},
     "output_type": "execute_result"
    }
   ],
   "source": [
    "include(\"ProbsEWA.jl\")\n",
    "using Flux, .pEWA, Random, IterTools, ProgressMeter, DataFrames, CSV, Statistics, Plots, BSON\n",
    "\n",
    "# Game setup\n",
    "coord = [[[5 1; 1 4], [5 1; 1 4]], pEWA.find_NE_mixed([[5 1; 1 4], [5 1; 1 4]])]\n",
    "dom = [[[1 3; 0 2],[1 0; 3 2]], pEWA.find_NE_mixed([[1 3; 0 2],[1 0; 3 2]])]\n",
    "cyclic = [[[5 1; 1 4], [-5 1; 1 -4]], pEWA.find_NE_mixed([[5 1; 1 4], [-5 1; 1 -4]])]\n",
    "\n",
    "# Model definition\n",
    "deepEWA = Chain(\n",
    "    Dense(12 => 32, relu),\n",
    "    Dense(32 => 32, relu),\n",
    "    Dense(32 => 32, relu),\n",
    "    Dense(32 => 4)\n",
    ")\n",
    "\n",
    "# Save model\n",
    "BSON.@load \"model_games.bson\" deepEWA\n",
    "\n",
    "points = 10_000"
   ]
  },
  {
   "cell_type": "code",
   "execution_count": 20,
   "id": "5eb523cb",
   "metadata": {},
   "outputs": [
    {
     "data": {
      "text/plain": [
       "12×10000 Matrix{Float32}:\n",
       " 0.7288   0.263     0.1936    0.0498   …  0.3199  0.3237   0.2023   0.0622\n",
       " 0.9972   0.7971    0.4467    0.9601      0.3802  0.947    0.3746   0.0295\n",
       " 0.4869   0.6411    0.342     0.8947      0.0756  0.8399   0.747    0.447\n",
       " 3.15504  2.07716   3.71359   1.31128     2.8806  1.19125  1.23491  3.77726\n",
       " 6.0      0.0       6.0       3.0         1.0     0.0      3.0      4.0\n",
       " 9.0      5.0       5.0       2.0      …  6.0     3.0      2.0      1.0\n",
       " 7.0      1.0       1.0       7.0         7.0     4.0      1.0      0.0\n",
       " 9.0      0.0      10.0       7.0         6.0     4.0      2.0      9.0\n",
       " 0.0      3.0       2.0       6.0         3.0     2.0      7.0      7.0\n",
       " 1.0      2.0       5.0      10.0         6.0     3.0      0.0      7.0\n",
       " 9.0      4.0       6.0       8.0      …  8.0     6.0      8.0      9.0\n",
       " 6.0      3.0       1.0       1.0         9.0     0.0      9.0      8.0"
      ]
     },
     "execution_count": 20,
     "metadata": {},
     "output_type": "execute_result"
    }
   ],
   "source": [
    "# Visualization\n",
    "custom_palette = [RGB(0.9, 0.1, 0.1), RGB(0.1, 0.7, 0.1), RGB(1.0, 1.0, 0.0), RGB(0.3, 0.8, 0.8)]\n",
    "\n",
    "# Parameter sampling\n",
    "α_grid, κ_grid, δ_grid = [rand(0.0:0.0001:1.0, points) for _ in 1:3]\n",
    "β_grid = exp.(rand(-0.5:0.001:1.5, points))\n",
    "mat1s = [rand(0:10, 2, 2) for _ in 1:points]\n",
    "mat2s = [rand(0:10, 2, 2) for _ in 1:points]\n",
    "combs = [[α_grid[i], κ_grid[i], δ_grid[i], β_grid[i], mat1s[i], mat2s[i]] for i in 1:points]\n",
    "\n",
    "# Split data\n",
    "x_test = combs\n",
    "y_test = Vector{Int}(undef, points)\n",
    "\n",
    "# Feature flattening\n",
    "function flatten_features(data)\n",
    "    hcat([Float32.(vcat(x[1:4], vec(x[5]), vec(x[6]))) for x in data]...)\n",
    "end\n",
    "\n",
    "x_test = flatten_features(x_test)\n"
   ]
  },
  {
   "cell_type": "code",
   "execution_count": 21,
   "id": "1efe8c6c",
   "metadata": {},
   "outputs": [
    {
     "data": {
      "text/plain": [
       "\"dom\""
      ]
     },
     "execution_count": 21,
     "metadata": {},
     "output_type": "execute_result"
    }
   ],
   "source": [
    "# Evaluation on new game\n",
    "game = coord\n",
    "game_name = \"dom\""
   ]
  },
  {
   "cell_type": "code",
   "execution_count": 22,
   "id": "757bf042",
   "metadata": {},
   "outputs": [
    {
     "name": "stderr",
     "output_type": "stream",
     "text": [
      "\u001b[32mProgress: 100%|█████████████████████████████████████████| Time: 0:00:06\u001b[39m\n"
     ]
    },
    {
     "data": {
      "text/plain": [
       "10000-element Vector{Int64}:\n",
       " 4\n",
       " 3\n",
       " 3\n",
       " 2\n",
       " 3\n",
       " 3\n",
       " 3\n",
       " 3\n",
       " 4\n",
       " 3\n",
       " 3\n",
       " 4\n",
       " 2\n",
       " ⋮\n",
       " 3\n",
       " 4\n",
       " 4\n",
       " 2\n",
       " 2\n",
       " 2\n",
       " 3\n",
       " 4\n",
       " 3\n",
       " 2\n",
       " 2\n",
       " 4"
      ]
     },
     "execution_count": 22,
     "metadata": {},
     "output_type": "execute_result"
    }
   ],
   "source": [
    "alpha_fix = 0.0\n",
    "beta_fix = -1.0\n",
    "kappa_fix = 1.0\n",
    "delta_fix = -1.0\n",
    "\n",
    "if alpha_fix != -1.0\n",
    "    x_test[1, :] .= alpha_fix\n",
    "end\n",
    "if kappa_fix != -1.0\n",
    "    x_test[2, :] .= kappa_fix\n",
    "end\n",
    "if delta_fix != -1.0\n",
    "    x_test[3, :] .= delta_fix\n",
    "end\n",
    "if beta_fix != -1.0\n",
    "    x_test[4, :] .= beta_fix\n",
    "end\n",
    "\n",
    "\n",
    "@showprogress for i in 1:size(x_test, 2)\n",
    "    α, κ, δ, β = Float64.(x_test[1:4, i])\n",
    "    params = pEWA.init_pEWA(; α, κ, δ, β, game=game)\n",
    "    y_test[i] = pEWA.multicat_pEWA(params)\n",
    "end\n",
    "\n",
    "out_new = deepEWA(x_test)\n",
    "probs_new = softmax(out_new, dims=1)\n",
    "predicted_labels_new = Flux.onecold(probs_new, 1:4)\n"
   ]
  },
  {
   "cell_type": "code",
   "execution_count": 23,
   "id": "5e7c6a32",
   "metadata": {},
   "outputs": [
    {
     "data": {
      "text/plain": [
       "\"/mnt/c/Users/Jiri_/Documents/School/CGT/DeepEWA/test.png\""
      ]
     },
     "execution_count": 23,
     "metadata": {},
     "output_type": "execute_result"
    }
   ],
   "source": [
    "# First, find unique group IDs\n",
    "mapping = Dict(\n",
    "    1 => \"Cycles/chaos\",\n",
    "    2 => \"Mixed FP\",\n",
    "    3 => \"Pure FP\",\n",
    "    4 => \"Pure NE\"\n",
    ")\n",
    "# Create a mapping from group IDs to labels\n",
    "\n",
    "\n",
    "unique_groups = sort(collect(keys(mapping)))  # or `sort(unique(y_test))`\n",
    "\n",
    "# Plot TRUE convergence\n",
    "p_true_new = plot(title=\"True convergence\", legend=true,\n",
    "    xlabel=\"α (alpha)\", ylabel=\"β (beta)\", yscale=:ln,\n",
    "    palette=custom_palette)\n",
    "\n",
    "for group_id in unique_groups\n",
    "    idxs = findall(y_test .== group_id)\n",
    "    scatter!(p_true_new, x_test[3, idxs], x_test[4, idxs],\n",
    "        label=mapping[group_id], markersize=3.5)\n",
    "end\n",
    "\n",
    "# Plot PREDICTED convergence\n",
    "p_pred_new = plot(title=\"Predicted convergence\", legend=false,\n",
    "    xlabel=\"α (alpha)\", ylabel=\"β (beta)\", yscale=:ln,\n",
    "    palette=custom_palette)\n",
    "\n",
    "for group_id in unique_groups\n",
    "    idxs = findall(predicted_labels_new .== group_id)\n",
    "    scatter!(p_pred_new, x_test[3, idxs], x_test[4, idxs],\n",
    "        label=mapping[group_id], markersize=3.5)\n",
    "end\n",
    "\n",
    "# Combine and save\n",
    "plot(p_true_new, p_pred_new, layout=(1, 2))\n",
    "savefig(\"test\")\n",
    "#savefig(\"EWA_$(game_name)_a$(alpha_fix)_b$(beta_fix)_d$(delta_fix)_k$(kappa_fix).png\")\n"
   ]
  },
  {
   "cell_type": "code",
   "execution_count": 24,
   "id": "059aef99",
   "metadata": {},
   "outputs": [
    {
     "data": {
      "text/plain": [
       "0.5002"
      ]
     },
     "execution_count": 24,
     "metadata": {},
     "output_type": "execute_result"
    }
   ],
   "source": [
    "accuracy_new = mean(predicted_labels_new .== y_test)"
   ]
  }
 ],
 "metadata": {
  "kernelspec": {
   "display_name": "Julia 1.11.4",
   "language": "julia",
   "name": "julia-1.11"
  },
  "language_info": {
   "file_extension": ".jl",
   "mimetype": "application/julia",
   "name": "julia",
   "version": "1.11.4"
  }
 },
 "nbformat": 4,
 "nbformat_minor": 5
}
