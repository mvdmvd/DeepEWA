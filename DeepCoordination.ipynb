{
 "cells": [
  {
   "cell_type": "code",
   "execution_count": 1,
   "metadata": {},
   "outputs": [],
   "source": [
    "include(\"/Users/meesvandartel/Desktop/Coursework/CGT/DeepEWA/FastEWA.jl\")\n",
    "using Flux, .fEWA, Random, ProgressMeter, CSV, DataFrames\n",
    "\n"
   ]
  },
  {
   "cell_type": "code",
   "execution_count": 2,
   "metadata": {},
   "outputs": [
    {
     "data": {
      "text/html": [
       "<div><div style = \"float: left;\"><span>400000×2 DataFrame</span></div><div style = \"float: right;\"><span style = \"font-style: italic;\">399975 rows omitted</span></div><div style = \"clear: both;\"></div></div><div class = \"data-frame\" style = \"overflow-x: scroll;\"><table class = \"data-frame\" style = \"margin-bottom: 6px;\"><thead><tr class = \"header\"><th class = \"rowNumber\" style = \"font-weight: bold; text-align: right;\">Row</th><th style = \"text-align: left;\">x_test</th><th style = \"text-align: left;\">y_test</th></tr><tr class = \"subheader headerLastRow\"><th class = \"rowNumber\" style = \"font-weight: bold; text-align: right;\"></th><th title = \"String\" style = \"text-align: left;\">String</th><th title = \"String\" style = \"text-align: left;\">String</th></tr></thead><tbody><tr><td class = \"rowNumber\" style = \"font-weight: bold; text-align: right;\">1</td><td style = \"text-align: left;\">[0.4151, 0.047, 0.4423, 3.070990045496511]</td><td style = \"text-align: left;\">([2, 2], Array{Float64}[[0.0, 1.0], [0.0, 1.0]], Array{Float64}[[0.4423, 4.0], [0.4423, 4.0]], true)</td></tr><tr><td class = \"rowNumber\" style = \"font-weight: bold; text-align: right;\">2</td><td style = \"text-align: left;\">[0.9699, 0.2836, 0.3718, 4.599741011213829]</td><td style = \"text-align: left;\">([1, 1], Array{Float64}[[0.001998001998001998, 0.998001998001998], [0.001998001998001998, 0.998001998001998]], Array{Float64}[[5.0, 0.3718], [5.0, 0.3718]], true)</td></tr><tr><td class = \"rowNumber\" style = \"font-weight: bold; text-align: right;\">3</td><td style = \"text-align: left;\">[0.7587, 0.0792, 0.2169, 40.406877272619965]</td><td style = \"text-align: left;\">([2, 2], Array{Float64}[[0.0, 1.0], [0.0, 1.0]], Array{Float64}[[0.2169, 4.0], [0.2169, 4.0]], true)</td></tr><tr><td class = \"rowNumber\" style = \"font-weight: bold; text-align: right;\">4</td><td style = \"text-align: left;\">[0.267, 0.3875, 0.9499, 10.601547701127542]</td><td style = \"text-align: left;\">([1, 1], Array{Float64}[[0.001998001998001998, 0.998001998001998], [0.001998001998001998, 0.998001998001998]], Array{Float64}[[5.0, 0.9499], [5.0, 0.9499]], true)</td></tr><tr><td class = \"rowNumber\" style = \"font-weight: bold; text-align: right;\">5</td><td style = \"text-align: left;\">[0.9271, 0.3051, 0.418, 22.737146574588383]</td><td style = \"text-align: left;\">([1, 2], Array{Float64}[[0.5004995004995005, 0.49950049950049946], [0.4995004995004995, 0.5004995004995005]], Array{Float64}[[1.0, 1.672], [2.09, 1.0]], false)</td></tr><tr><td class = \"rowNumber\" style = \"font-weight: bold; text-align: right;\">6</td><td style = \"text-align: left;\">[0.5965, 0.4295, 0.6287, 1.8130309449601565]</td><td style = \"text-align: left;\">([2, 2], Array{Float64}[[0.0, 1.0], [0.0, 1.0]], Array{Float64}[[0.6287, 4.0], [0.6287, 4.0]], true)</td></tr><tr><td class = \"rowNumber\" style = \"font-weight: bold; text-align: right;\">7</td><td style = \"text-align: left;\">[0.5835, 0.9268, 0.7372, 1.2712491503214047]</td><td style = \"text-align: left;\">([1, 1], Array{Float64}[[0.001998001998001998, 0.998001998001998], [0.001998001998001998, 0.998001998001998]], Array{Float64}[[5.0, 0.7372], [5.0, 0.7372]], true)</td></tr><tr><td class = \"rowNumber\" style = \"font-weight: bold; text-align: right;\">8</td><td style = \"text-align: left;\">[0.5924, 0.3284, 0.7447, 6.705982242240201]</td><td style = \"text-align: left;\">([1, 1], Array{Float64}[[0.001998001998001998, 0.998001998001998], [0.001998001998001998, 0.998001998001998]], Array{Float64}[[5.0, 0.7447], [5.0, 0.7447]], true)</td></tr><tr><td class = \"rowNumber\" style = \"font-weight: bold; text-align: right;\">9</td><td style = \"text-align: left;\">[0.4066, 0.1341, 0.6478, 52.878667676447755]</td><td style = \"text-align: left;\">([2, 1], Array{Float64}[[0.4995004995004995, 0.5004995004995005], [0.5004995004995005, 0.49950049950049946]], Array{Float64}[[3.2390000000000003, 1.0], [1.0, 2.5912]], false)</td></tr><tr><td class = \"rowNumber\" style = \"font-weight: bold; text-align: right;\">10</td><td style = \"text-align: left;\">[0.573, 0.6003, 0.1796, 8.962059002740496]</td><td style = \"text-align: left;\">([2, 2], Array{Float64}[[0.0, 1.0], [0.0, 1.0]], Array{Float64}[[0.1796, 4.0], [0.1796, 4.0]], true)</td></tr><tr><td class = \"rowNumber\" style = \"font-weight: bold; text-align: right;\">11</td><td style = \"text-align: left;\">[0.1166, 0.8424, 0.4879, 39.05613616309936]</td><td style = \"text-align: left;\">([1, 2], Array{Float64}[[0.5004995004995005, 0.49950049950049946], [0.4995004995004995, 0.5004995004995005]], Array{Float64}[[1.0, 1.9516], [2.4395, 1.0]], false)</td></tr><tr><td class = \"rowNumber\" style = \"font-weight: bold; text-align: right;\">12</td><td style = \"text-align: left;\">[0.6867, 0.8535, 0.8536, 1.7753542846562733]</td><td style = \"text-align: left;\">([2, 1], Array{Float64}[[0.9170829170829171, 0.08291708291708288], [0.919080919080919, 0.08091908091908095]], Array{Float64}[[4.268, 1.0], [1.0, 3.4144]], false)</td></tr><tr><td class = \"rowNumber\" style = \"font-weight: bold; text-align: right;\">13</td><td style = \"text-align: left;\">[0.8965, 0.9787, 0.4344, 51.470045619699995]</td><td style = \"text-align: left;\">([2, 2], Array{Float64}[[0.0, 1.0], [0.0, 1.0]], Array{Float64}[[0.4344, 4.0], [0.4344, 4.0]], true)</td></tr><tr><td style = \"text-align: right;\">&vellip;</td><td style = \"text-align: right;\">&vellip;</td><td style = \"text-align: right;\">&vellip;</td></tr><tr><td class = \"rowNumber\" style = \"font-weight: bold; text-align: right;\">399989</td><td style = \"text-align: left;\">[0.8499, 0.7389, 0.9605, 5.479424077005176]</td><td style = \"text-align: left;\">([2, 1], Array{Float64}[[0.4995004995004995, 0.5004995004995005], [0.5004995004995005, 0.49950049950049946]], Array{Float64}[[4.8025, 1.0], [1.0, 3.842]], false)</td></tr><tr><td class = \"rowNumber\" style = \"font-weight: bold; text-align: right;\">399990</td><td style = \"text-align: left;\">[0.3734, 0.8807, 0.6918, 3.8728861334110594]</td><td style = \"text-align: left;\">([1, 1], Array{Float64}[[0.6483516483516484, 0.3516483516483516], [0.6483516483516484, 0.3516483516483516]], Array{Float64}[[5.0, 0.6918], [5.0, 0.6918]], false)</td></tr><tr><td class = \"rowNumber\" style = \"font-weight: bold; text-align: right;\">399991</td><td style = \"text-align: left;\">[0.158, 0.6586, 0.2789, 2.756605413200825]</td><td style = \"text-align: left;\">([1, 1], Array{Float64}[[0.001998001998001998, 0.998001998001998], [0.001998001998001998, 0.998001998001998]], Array{Float64}[[5.0, 0.2789], [5.0, 0.2789]], true)</td></tr><tr><td class = \"rowNumber\" style = \"font-weight: bold; text-align: right;\">399992</td><td style = \"text-align: left;\">[0.8625, 0.3806, 0.1256, 27.522393984568446]</td><td style = \"text-align: left;\">([1, 2], Array{Float64}[[1.0, 0.0], [0.0, 1.0]], Array{Float64}[[1.0, 0.5024], [0.6279999999999999, 1.0]], false)</td></tr><tr><td class = \"rowNumber\" style = \"font-weight: bold; text-align: right;\">399993</td><td style = \"text-align: left;\">[0.4914, 0.8009, 0.9698, 5.941727999051595]</td><td style = \"text-align: left;\">([1, 2], Array{Float64}[[0.5004995004995005, 0.49950049950049946], [0.4995004995004995, 0.5004995004995005]], Array{Float64}[[1.0, 3.8792], [4.849, 1.0]], false)</td></tr><tr><td class = \"rowNumber\" style = \"font-weight: bold; text-align: right;\">399994</td><td style = \"text-align: left;\">[0.6447, 0.5436, 0.0181, 31.31195582964186]</td><td style = \"text-align: left;\">([2, 2], Array{Float64}[[0.0, 1.0], [0.0, 1.0]], Array{Float64}[[0.0181, 4.0], [0.0181, 4.0]], true)</td></tr><tr><td class = \"rowNumber\" style = \"font-weight: bold; text-align: right;\">399995</td><td style = \"text-align: left;\">[0.9593, 0.0138, 0.5888, 1.006018036054065]</td><td style = \"text-align: left;\">([1, 1], Array{Float64}[[0.03196803196803197, 0.968031968031968], [0.03196803196803197, 0.968031968031968]], Array{Float64}[[5.0, 0.5888], [5.0, 0.5888]], true)</td></tr><tr><td class = \"rowNumber\" style = \"font-weight: bold; text-align: right;\">399996</td><td style = \"text-align: left;\">[0.6256, 0.5879, 0.5927, 33.85206493470261]</td><td style = \"text-align: left;\">([1, 2], Array{Float64}[[0.5004995004995005, 0.49950049950049946], [0.4995004995004995, 0.5004995004995005]], Array{Float64}[[1.0, 2.3708], [2.9635, 1.0]], false)</td></tr><tr><td class = \"rowNumber\" style = \"font-weight: bold; text-align: right;\">399997</td><td style = \"text-align: left;\">[0.6029, 0.4188, 0.6823, 39.76551184210629]</td><td style = \"text-align: left;\">([1, 2], Array{Float64}[[0.5004995004995005, 0.49950049950049946], [0.4995004995004995, 0.5004995004995005]], Array{Float64}[[1.0, 2.7292], [3.4115, 1.0]], false)</td></tr><tr><td class = \"rowNumber\" style = \"font-weight: bold; text-align: right;\">399998</td><td style = \"text-align: left;\">[0.0229, 0.8845, 0.4747, 1.6048013829762589]</td><td style = \"text-align: left;\">([2, 2], Array{Float64}[[0.0, 1.0], [0.0, 1.0]], Array{Float64}[[0.4747, 4.0], [0.4747, 4.0]], true)</td></tr><tr><td class = \"rowNumber\" style = \"font-weight: bold; text-align: right;\">399999</td><td style = \"text-align: left;\">[0.6032, 0.8143, 0.44, 1.4740297842881416]</td><td style = \"text-align: left;\">([2, 2], Array{Float64}[[0.001998001998001998, 0.998001998001998], [0.000999000999000999, 0.999000999000999]], Array{Float64}[[0.44, 4.0], [0.44, 4.0]], true)</td></tr><tr><td class = \"rowNumber\" style = \"font-weight: bold; text-align: right;\">400000</td><td style = \"text-align: left;\">[0.7815, 0.6059, 0.131, 25.406371778848346]</td><td style = \"text-align: left;\">([1, 1], Array{Float64}[[0.001998001998001998, 0.998001998001998], [0.001998001998001998, 0.998001998001998]], Array{Float64}[[5.0, 0.131], [5.0, 0.131]], true)</td></tr></tbody></table></div>"
      ],
      "text/latex": [
       "\\begin{tabular}{r|cc}\n",
       "\t& x\\_test & y\\_test\\\\\n",
       "\t\\hline\n",
       "\t& String & String\\\\\n",
       "\t\\hline\n",
       "\t1 & [0.4151, 0.047, 0.4423, 3.070990045496511] & ([2, 2], Array\\{Float64\\}[[0.0, 1.0], [0.0, 1.0]], Array\\{Float64\\}[[0.4423, 4.0], [0.4423, 4.0]], true) \\\\\n",
       "\t2 & [0.9699, 0.2836, 0.3718, 4.599741011213829] & ([1, 1], Array\\{Float64\\}[[0.001998001998001998, 0.998001998001998], [0.001998001998001998, 0.998001998001998]], Array\\{Float64\\}[[5.0, 0.3718], [5.0, 0.3718]], true) \\\\\n",
       "\t3 & [0.7587, 0.0792, 0.2169, 40.406877272619965] & ([2, 2], Array\\{Float64\\}[[0.0, 1.0], [0.0, 1.0]], Array\\{Float64\\}[[0.2169, 4.0], [0.2169, 4.0]], true) \\\\\n",
       "\t4 & [0.267, 0.3875, 0.9499, 10.601547701127542] & ([1, 1], Array\\{Float64\\}[[0.001998001998001998, 0.998001998001998], [0.001998001998001998, 0.998001998001998]], Array\\{Float64\\}[[5.0, 0.9499], [5.0, 0.9499]], true) \\\\\n",
       "\t5 & [0.9271, 0.3051, 0.418, 22.737146574588383] & ([1, 2], Array\\{Float64\\}[[0.5004995004995005, 0.49950049950049946], [0.4995004995004995, 0.5004995004995005]], Array\\{Float64\\}[[1.0, 1.672], [2.09, 1.0]], false) \\\\\n",
       "\t6 & [0.5965, 0.4295, 0.6287, 1.8130309449601565] & ([2, 2], Array\\{Float64\\}[[0.0, 1.0], [0.0, 1.0]], Array\\{Float64\\}[[0.6287, 4.0], [0.6287, 4.0]], true) \\\\\n",
       "\t7 & [0.5835, 0.9268, 0.7372, 1.2712491503214047] & ([1, 1], Array\\{Float64\\}[[0.001998001998001998, 0.998001998001998], [0.001998001998001998, 0.998001998001998]], Array\\{Float64\\}[[5.0, 0.7372], [5.0, 0.7372]], true) \\\\\n",
       "\t8 & [0.5924, 0.3284, 0.7447, 6.705982242240201] & ([1, 1], Array\\{Float64\\}[[0.001998001998001998, 0.998001998001998], [0.001998001998001998, 0.998001998001998]], Array\\{Float64\\}[[5.0, 0.7447], [5.0, 0.7447]], true) \\\\\n",
       "\t9 & [0.4066, 0.1341, 0.6478, 52.878667676447755] & ([2, 1], Array\\{Float64\\}[[0.4995004995004995, 0.5004995004995005], [0.5004995004995005, 0.49950049950049946]], Array\\{Float64\\}[[3.2390000000000003, 1.0], [1.0, 2.5912]], false) \\\\\n",
       "\t10 & [0.573, 0.6003, 0.1796, 8.962059002740496] & ([2, 2], Array\\{Float64\\}[[0.0, 1.0], [0.0, 1.0]], Array\\{Float64\\}[[0.1796, 4.0], [0.1796, 4.0]], true) \\\\\n",
       "\t11 & [0.1166, 0.8424, 0.4879, 39.05613616309936] & ([1, 2], Array\\{Float64\\}[[0.5004995004995005, 0.49950049950049946], [0.4995004995004995, 0.5004995004995005]], Array\\{Float64\\}[[1.0, 1.9516], [2.4395, 1.0]], false) \\\\\n",
       "\t12 & [0.6867, 0.8535, 0.8536, 1.7753542846562733] & ([2, 1], Array\\{Float64\\}[[0.9170829170829171, 0.08291708291708288], [0.919080919080919, 0.08091908091908095]], Array\\{Float64\\}[[4.268, 1.0], [1.0, 3.4144]], false) \\\\\n",
       "\t13 & [0.8965, 0.9787, 0.4344, 51.470045619699995] & ([2, 2], Array\\{Float64\\}[[0.0, 1.0], [0.0, 1.0]], Array\\{Float64\\}[[0.4344, 4.0], [0.4344, 4.0]], true) \\\\\n",
       "\t14 & [0.5176, 0.9089, 0.2619, 8.264754274681641] & ([2, 2], Array\\{Float64\\}[[0.0, 1.0], [0.0, 1.0]], Array\\{Float64\\}[[0.2619, 4.0], [0.2619, 4.0]], true) \\\\\n",
       "\t15 & [0.5097, 0.769, 0.6689, 2.753850185631011] & ([2, 2], Array\\{Float64\\}[[0.0, 1.0], [0.0, 1.0]], Array\\{Float64\\}[[0.6689, 4.0], [0.6689, 4.0]], true) \\\\\n",
       "\t16 & [0.9845, 0.2968, 0.6103, 5.824073901819975] & ([2, 2], Array\\{Float64\\}[[0.0, 1.0], [0.0, 1.0]], Array\\{Float64\\}[[0.6103, 4.0], [0.6103, 4.0]], true) \\\\\n",
       "\t17 & [0.5835, 0.6657, 0.0572, 5.8357337055407354] & ([1, 1], Array\\{Float64\\}[[0.001998001998001998, 0.998001998001998], [0.001998001998001998, 0.998001998001998]], Array\\{Float64\\}[[5.0, 0.0572], [5.0, 0.0572]], true) \\\\\n",
       "\t18 & [0.5424, 0.7963, 0.7702, 8.784598344583095] & ([2, 1], Array\\{Float64\\}[[0.4995004995004995, 0.5004995004995005], [0.5004995004995005, 0.49950049950049946]], Array\\{Float64\\}[[3.851, 1.0], [1.0, 3.0808]], false) \\\\\n",
       "\t19 & [0.3117, 0.6855, 0.8468, 1.4903336186074025] & ([1, 1], Array\\{Float64\\}[[0.001998001998001998, 0.998001998001998], [0.001998001998001998, 0.998001998001998]], Array\\{Float64\\}[[5.0, 0.8468], [5.0, 0.8468]], true) \\\\\n",
       "\t20 & [0.8557, 0.6036, 0.8771, 4.43266064129309] & ([2, 2], Array\\{Float64\\}[[0.0, 1.0], [0.0, 1.0]], Array\\{Float64\\}[[0.8771, 4.0], [0.8771, 4.0]], true) \\\\\n",
       "\t21 & [0.9719, 0.8762, 0.8344, 6.462395050921417] & ([2, 1], Array\\{Float64\\}[[0.4995004995004995, 0.5004995004995005], [0.5004995004995005, 0.49950049950049946]], Array\\{Float64\\}[[4.172000000000001, 1.0], [1.0, 3.3376]], false) \\\\\n",
       "\t22 & [0.3854, 0.5767, 0.8396, 11.68142531092536] & ([1, 1], Array\\{Float64\\}[[0.001998001998001998, 0.998001998001998], [0.001998001998001998, 0.998001998001998]], Array\\{Float64\\}[[5.0, 0.8396], [5.0, 0.8396]], true) \\\\\n",
       "\t23 & [0.2685, 0.4166, 0.0315, 1.6820276496988864] & ([2, 2], Array\\{Float64\\}[[0.0, 1.0], [0.000999000999000999, 0.999000999000999]], Array\\{Float64\\}[[0.0315, 4.0], [0.0315, 4.0]], true) \\\\\n",
       "\t24 & [0.144, 0.2854, 0.0346, 17.46152693657999] & ([2, 1], Array\\{Float64\\}[[0.0, 1.0], [1.0, 0.0]], Array\\{Float64\\}[[0.173, 1.0], [1.0, 0.1384]], false) \\\\\n",
       "\t25 & [0.4913, 0.0651, 0.8876, 11.189770357552705] & ([2, 2], Array\\{Float64\\}[[0.0, 1.0], [0.0, 1.0]], Array\\{Float64\\}[[0.8876, 4.0], [0.8876, 4.0]], true) \\\\\n",
       "\t26 & [0.5958, 0.1332, 0.977, 12.121733518589444] & ([1, 2], Array\\{Float64\\}[[0.5004995004995005, 0.49950049950049946], [0.4995004995004995, 0.5004995004995005]], Array\\{Float64\\}[[1.0, 3.908], [4.885, 1.0]], false) \\\\\n",
       "\t27 & [0.9739, 0.8501, 0.5507, 2.7982661689305695] & ([1, 1], Array\\{Float64\\}[[0.001998001998001998, 0.998001998001998], [0.001998001998001998, 0.998001998001998]], Array\\{Float64\\}[[5.0, 0.5507], [5.0, 0.5507]], true) \\\\\n",
       "\t28 & [0.0553, 0.4337, 0.2546, 1.239861896966062] & ([1, 1], Array\\{Float64\\}[[0.001998001998001998, 0.998001998001998], [0.001998001998001998, 0.998001998001998]], Array\\{Float64\\}[[5.0, 0.2546], [5.0, 0.2546]], true) \\\\\n",
       "\t29 & [0.3335, 0.4563, 0.8711, 27.85465227503616] & ([2, 2], Array\\{Float64\\}[[0.0, 1.0], [0.0, 1.0]], Array\\{Float64\\}[[0.8711, 4.0], [0.8711, 4.0]], true) \\\\\n",
       "\t30 & [0.923, 0.7325, 0.412, 26.762455737114973] & ([1, 1], Array\\{Float64\\}[[0.001998001998001998, 0.998001998001998], [0.001998001998001998, 0.998001998001998]], Array\\{Float64\\}[[5.0, 0.412], [5.0, 0.412]], true) \\\\\n",
       "\t$\\dots$ & $\\dots$ & $\\dots$ \\\\\n",
       "\\end{tabular}\n"
      ],
      "text/plain": [
       "\u001b[1m400000×2 DataFrame\u001b[0m\n",
       "\u001b[1m    Row \u001b[0m│\u001b[1m x_test                            \u001b[0m\u001b[1m y_test                           \u001b[0m ⋯\n",
       "        │\u001b[90m String                            \u001b[0m\u001b[90m String                           \u001b[0m ⋯\n",
       "────────┼───────────────────────────────────────────────────────────────────────\n",
       "      1 │ [0.4151, 0.047, 0.4423, 3.070990…  ([2, 2], Array{Float64}[[0.0, 1.… ⋯\n",
       "      2 │ [0.9699, 0.2836, 0.3718, 4.59974…  ([1, 1], Array{Float64}[[0.00199…\n",
       "      3 │ [0.7587, 0.0792, 0.2169, 40.4068…  ([2, 2], Array{Float64}[[0.0, 1.…\n",
       "      4 │ [0.267, 0.3875, 0.9499, 10.60154…  ([1, 1], Array{Float64}[[0.00199…\n",
       "      5 │ [0.9271, 0.3051, 0.418, 22.73714…  ([1, 2], Array{Float64}[[0.50049… ⋯\n",
       "      6 │ [0.5965, 0.4295, 0.6287, 1.81303…  ([2, 2], Array{Float64}[[0.0, 1.…\n",
       "      7 │ [0.5835, 0.9268, 0.7372, 1.27124…  ([1, 1], Array{Float64}[[0.00199…\n",
       "      8 │ [0.5924, 0.3284, 0.7447, 6.70598…  ([1, 1], Array{Float64}[[0.00199…\n",
       "      9 │ [0.4066, 0.1341, 0.6478, 52.8786…  ([2, 1], Array{Float64}[[0.49950… ⋯\n",
       "     10 │ [0.573, 0.6003, 0.1796, 8.962059…  ([2, 2], Array{Float64}[[0.0, 1.…\n",
       "     11 │ [0.1166, 0.8424, 0.4879, 39.0561…  ([1, 2], Array{Float64}[[0.50049…\n",
       "   ⋮    │                 ⋮                                  ⋮                 ⋱\n",
       " 399991 │ [0.158, 0.6586, 0.2789, 2.756605…  ([1, 1], Array{Float64}[[0.00199…\n",
       " 399992 │ [0.8625, 0.3806, 0.1256, 27.5223…  ([1, 2], Array{Float64}[[1.0, 0.… ⋯\n",
       " 399993 │ [0.4914, 0.8009, 0.9698, 5.94172…  ([1, 2], Array{Float64}[[0.50049…\n",
       " 399994 │ [0.6447, 0.5436, 0.0181, 31.3119…  ([2, 2], Array{Float64}[[0.0, 1.…\n",
       " 399995 │ [0.9593, 0.0138, 0.5888, 1.00601…  ([1, 1], Array{Float64}[[0.03196…\n",
       " 399996 │ [0.6256, 0.5879, 0.5927, 33.8520…  ([1, 2], Array{Float64}[[0.50049… ⋯\n",
       " 399997 │ [0.6029, 0.4188, 0.6823, 39.7655…  ([1, 2], Array{Float64}[[0.50049…\n",
       " 399998 │ [0.0229, 0.8845, 0.4747, 1.60480…  ([2, 2], Array{Float64}[[0.0, 1.…\n",
       " 399999 │ [0.6032, 0.8143, 0.44, 1.4740297…  ([2, 2], Array{Float64}[[0.00199…\n",
       " 400000 │ [0.7815, 0.6059, 0.131, 25.40637…  ([1, 1], Array{Float64}[[0.00199… ⋯\n",
       "\u001b[36m                                                            399979 rows omitted\u001b[0m"
      ]
     },
     "execution_count": 2,
     "metadata": {},
     "output_type": "execute_result"
    }
   ],
   "source": [
    "train = CSV.read(\"/Users/meesvandartel/Desktop/Coursework/CGT/localdata_DeepEWA/coord_train.csv\", DataFrame)\n",
    "test = CSV.read(\"/Users/meesvandartel/Desktop/Coursework/CGT/localdata_DeepEWA/coord_test.csv\", DataFrame)\n"
   ]
  },
  {
   "cell_type": "code",
   "execution_count": null,
   "metadata": {},
   "outputs": [],
   "source": [
    "DeepEWA= Chain(\n",
    "    Dense(4 => 6, relu),\n",
    "    Dense(6 => 6, relu),\n",
    "    Dense(6 => 2))\n",
    "\n",
    "out1 = DeepEWA(x_train)\n",
    "probs1 = softmax(out1)\n",
    "\n",
    "target = Flux.onehotbatch(y_train, [\"true\", \"false\"])\n",
    "loader = Flux.DataLoader((x_train, target), batchsize=64, shuffle=true);\n",
    "\n",
    "opt_state = Flux.setup(Flux.Adam(0.01), DeepEWA)\n",
    "\n",
    "losses=[]\n",
    "@showprogress for epoch in 1:1000\n",
    "    for xy in loader\n",
    "        x,y = xy\n",
    "        loss, grads = Flux.withgradient(DeepEWA) do m\n",
    "            y_hat = m(x)\n",
    "            Flux.logitcrossentropy(y_hat, y)\n",
    "        end\n",
    "        Flux.update!(opt_state, model, grads[1])\n",
    "        push!(losses, loss)\n",
    "    end\n",
    "end\n",
    "\n",
    "opt_state"
   ]
  },
  {
   "cell_type": "code",
   "execution_count": null,
   "metadata": {},
   "outputs": [],
   "source": [
    "out2 = model(x_train)\n",
    "probs2 = softmax(out2)\n",
    "mean((probs2[1,:].>0.5).==truth)"
   ]
  },
  {
   "cell_type": "code",
   "execution_count": null,
   "metadata": {},
   "outputs": [],
   "source": [
    "using Plots  # to draw the above figure\n",
    "\n",
    "p_true = scatter(x_train[1,:], x_train[2,:], zcolor=truth, title=\"True classification\", legend=false)\n",
    "p_raw =  scatter(x_train[1,:], x_train[2,:], zcolor=probs1[1,:], title=\"Untrained network\", label=\"\", clims=(0,1))\n",
    "p_done = scatter(x_train[1,:], x_train[2,:], zcolor=probs2[1,:], title=\"Trained network\", legend=false)\n",
    "\n",
    "plot(p_true, p_raw, p_done, layout=(1,3), size=(1000,330))\n"
   ]
  },
  {
   "cell_type": "code",
   "execution_count": null,
   "metadata": {},
   "outputs": [],
   "source": [
    "plot(losses; xaxis=(:log10, \"iteration\"),\n",
    "    yaxis=\"loss\", label=\"per batch\")\n",
    "n = length(loader)\n",
    "plot!(n:n:length(losses), mean.(Iterators.partition(losses, n)),\n",
    "    label=\"epoch mean\", dpi=200)\n"
   ]
  }
 ],
 "metadata": {
  "kernelspec": {
   "display_name": "Julia 1.11.4",
   "language": "julia",
   "name": "julia-1.11"
  },
  "language_info": {
   "file_extension": ".jl",
   "mimetype": "application/julia",
   "name": "julia",
   "version": "1.11.4"
  }
 },
 "nbformat": 4,
 "nbformat_minor": 2
}
