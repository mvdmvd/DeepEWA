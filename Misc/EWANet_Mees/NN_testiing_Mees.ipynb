{
 "cells": [
  {
   "cell_type": "code",
   "execution_count": 1,
   "metadata": {},
   "outputs": [],
   "source": [
    "include(\"/Users/meesvandartel/Desktop/Coursework/CGT/DeepEWA/DeepEWA_funs&structs.jl\")\n",
    "using Flux, Statistics, ProgressMeter, .EWA, Base.Iterators, ProgressMeter\n",
    "using Base.Threads"
   ]
  },
  {
   "cell_type": "code",
   "execution_count": 3,
   "metadata": {},
   "outputs": [
    {
     "name": "stdout",
     "output_type": "stream",
     "text": [
      "Running with 1 threads.\n"
     ]
    }
   ],
   "source": [
    "println(\"Running with \", Threads.nthreads(), \" threads.\")"
   ]
  },
  {
   "cell_type": "markdown",
   "metadata": {},
   "source": [
    "### 1.Make grid over param space\n",
    "#### 1.1 In some smart way (non-trivial games, endogenous grid)\n",
    "### 2. Run EWA to get labels, make cleaned dataset\n",
    "### 3. Train small NN to classify convergence properties\n",
    "### 4. Make graphs, etc"
   ]
  },
  {
   "cell_type": "code",
   "execution_count": 2,
   "metadata": {},
   "outputs": [
    {
     "ename": "LoadError",
     "evalue": "UndefVarError: `n_payoffs` not defined in `Main`\nSuggestion: check for spelling errors or missing imports.",
     "output_type": "error",
     "traceback": [
      "UndefVarError: `n_payoffs` not defined in `Main`\nSuggestion: check for spelling errors or missing imports.",
      "",
      "Stacktrace:",
      " [1] top-level scope",
      "   @ In[2]:18"
     ]
    }
   ],
   "source": [
    "coord = [[5 1; 1 4], [5 1; 1 4]]\n",
    "dom = [[5 0; 20 1], [5 0; 20 1]]\n",
    "cyclic = [[5 1;1 4],[-5 1; 1 -4]]\n",
    "\n",
    "payoffs = [coord, dom, cyclic]\n",
    "payoff_names = [\"Coordination\", \"Dominance\", \"Cyclic\"]\n",
    "\n",
    "\n",
    "\n",
    "LinGrid1 = 0.0:0.1:1.0\n",
    "LogGridβ = vcat(0.0, collect(logrange(1e-6, 999.0, (length(LinGrid1)-1))))\n",
    "shots = 4\n",
    "\n",
    "\n",
    "total_iterations = length(LinGrid1)^3 * length(LogGridβ) * length(payoffs)\n",
    "data = Vector{Any}(undef, total_iterations)\n",
    "\n",
    "parameter_space = CartesianIndices((n_payoffs, n_alpha, n_delta, n_kappa, n_beta))\n",
    "\n",
    "total_iterations = length(LinGrid1)^3 * length(LogGridβ) * length(payoffs)\n",
    "\n",
    "n_alpha = length(LinGrid1)\n",
    "n_delta = length(LinGrid1)\n",
    "n_kappa = length(LinGrid1)\n",
    "n_beta = length(LogGridβ)\n",
    "n_payoffs = length(payoffs)\n",
    "\n",
    "@threads for i in 1:total_iterations\n",
    "    idx_tuple = parameter_space[i]\n",
    "    payoff_idx, alpha_idx, delta_idx, kappa_idx, beta_idx = Tuple(idx_tuple)\n",
    "    current_payoff = payoffs[payoff_idx]\n",
    "    current_payoff_name = payoff_names[payoff_idx]\n",
    "    α = LinGrid1[alpha_idx]\n",
    "    δ = LinGrid1[delta_idx]\n",
    "    κ = LinGrid1[kappa_idx]\n",
    "    β = LogGridβ[beta_idx]\n",
    "    \n",
    "    L=0\n",
    "    NEs = Set()\n",
    "    FPs = Set()\n",
    "    lim_chaos_found_in_shots = false\n",
    "    for t in 1:shots\n",
    "        params = EWA.init_EWA(\n",
    "        Q₀=[[0.0, 0.0], [0.0, 0.0]], N₀=0.0, # priors\n",
    "        α=α, δ=δ, κ=κ, β=β, # params\n",
    "        payoff=current_payoff)     \n",
    "        _, _, sₜ, _, lim_chaos, NE_found, NE = EWA.run_EWA_pure(params; print = false)\n",
    "        if lim_chaos == true\n",
    "            L=1\n",
    "            lim_chaos_found_in_shots = true\n",
    "            break\n",
    "        elseif NE_found == true\n",
    "            push!(NEs, sₜ)\n",
    "        else\n",
    "            push!(FPs, sₜ)\n",
    "        end\n",
    "    end\n",
    "    if !lim_chaos_found_in_shots\n",
    "        if length(NEs) == 1\n",
    "            L=2\n",
    "        elseif length(NEs) > 1\n",
    "            L=3\n",
    "        elseif length(FPs) == 1\n",
    "            L=4\n",
    "        elseif length(FPs) > 1\n",
    "            L=5\n",
    "        else \n",
    "            L=6\n",
    "        end\n",
    "    end\n",
    "    data[i] = (PayoffName=current_payoff_name, Alpha=α, Delta=δ, Kappa=κ, Beta=β, ResultCode=L)\n",
    "    next!(p)\n",
    "end\n",
    "\n",
    "print(data)"
   ]
  },
  {
   "cell_type": "code",
   "execution_count": null,
   "metadata": {},
   "outputs": [],
   "source": [
    "coord = [[5 1; 1 4], [5 1; 1 4]]\n",
    "dom = [[5 0; 20 1], [5 0; 20 1]]\n",
    "cyclic = [[5 1;1 4],[-5 1; 1 -4]]\n",
    "\n",
    "payoffs = [coord, dom, cyclic]\n",
    "\n",
    "LinGrid1 = 0.0:0.1:1.0\n",
    "LogGridβ = vcat(0.0, collect(logrange(1e-6, 999.0, (length(LinGrid1)-1))))\n",
    "shots = 4\n",
    "\n",
    "\n",
    "total_iterations = length(LinGrid1)^3 * length(LogGridβ) * length(payoffs)\n",
    "data = Vector{Any}(undef, total_iterations)\n",
    "\n",
    "parameter_space = CartesianIndices((n_payoffs, n_alpha, n_delta, n_kappa, n_beta))"
   ]
  },
  {
   "cell_type": "code",
   "execution_count": null,
   "metadata": {},
   "outputs": [
    {
     "data": {
      "text/plain": [
       "3-element Vector{Float64}:\n",
       "   1.0e-6\n",
       "   0.03160696125855821\n",
       " 999.0"
      ]
     },
     "execution_count": 2,
     "metadata": {},
     "output_type": "execute_result"
    }
   ],
   "source": [
    "collect(logrange(1e-6, 999.0, 3))"
   ]
  },
  {
   "cell_type": "code",
   "execution_count": null,
   "metadata": {},
   "outputs": [],
   "source": [
    "function apply_constraints()\n",
    "\n",
    "\n",
    "    [a b;c d][e f;g h]\n",
    "\n",
    "    coord = [a>c, b<d, e>g, f<h]\n",
    "    anticoord = [a<c, b>d, e<g, f>h]\n",
    "    cyclic = [[a>c, b<d, e<g, f>h], [a<c, b>d, e>g, f<h]]\n",
    "    \n",
    "    # Generate a random number to decide which constraints to apply\n",
    "    rand_val = rand()\n",
    "    \n",
    "    if rand_val < 0.25\n",
    "        return coord\n",
    "    elseif rand_val < 0.5\n",
    "        return anticoord\n",
    "    elseif rand_val < 0.75\n",
    "        return cyclic\n",
    "    else\n",
    "        return []  # No constraints applied\n",
    "    end\n",
    "end"
   ]
  }
 ],
 "metadata": {
  "kernelspec": {
   "display_name": "Julia 1.11.4",
   "language": "julia",
   "name": "julia-1.11"
  },
  "language_info": {
   "file_extension": ".jl",
   "mimetype": "application/julia",
   "name": "julia",
   "version": "1.11.4"
  }
 },
 "nbformat": 4,
 "nbformat_minor": 2
}
