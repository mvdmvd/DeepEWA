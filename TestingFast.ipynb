{
 "cells": [
  {
   "cell_type": "code",
   "execution_count": 1,
   "metadata": {},
   "outputs": [],
   "source": [
    "include(\"/Users/meesvandartel/Desktop/Coursework/CGT/DeepEWA/FasterDeepEWA.jl\")\n",
    "using .fEWA"
   ]
  },
  {
   "cell_type": "code",
   "execution_count": 20,
   "metadata": {},
   "outputs": [
    {
     "data": {
      "text/plain": [
       "([1, 2], [[1.0, 4.0], [-5.0, 1.0]], false, false)"
      ]
     },
     "execution_count": 20,
     "metadata": {},
     "output_type": "execute_result"
    }
   ],
   "source": [
    "# payoff matrixes\n",
    "coord = [[[5 1; 1 4], [5 1; 1 4]], fEWA.find_NE_pure([[5 1; 1 4], [5 1; 1 4]])]\n",
    "\n",
    "dom = [[[5 0; 20 1], [5 0; 20 1]], fEWA.find_NE_pure([[5 0; 20 1], [5 0; 20 1]])]\n",
    "\n",
    "cyclic = [[[5 1;1 4],[-5 1; 1 -4]], fEWA.find_NE_pure([[5 1;1 4],[-5 1; 1 -4]])]\n",
    "\n",
    "params = fEWA.init_EWA(;\n",
    "    α=1.0, κ=0.0, δ=1.0, β=Inf64,\n",
    "    game=cyclic)\n",
    "\n",
    "sₜ, Qₜ, lim_chaos, NE_found = fEWA.run_EWA_pure(params; T=1000000)"
   ]
  }
 ],
 "metadata": {
  "kernelspec": {
   "display_name": "Julia 1.11.4",
   "language": "julia",
   "name": "julia-1.11"
  },
  "language_info": {
   "file_extension": ".jl",
   "mimetype": "application/julia",
   "name": "julia",
   "version": "1.11.4"
  }
 },
 "nbformat": 4,
 "nbformat_minor": 2
}
