{
 "cells": [
  {
   "cell_type": "code",
   "execution_count": 2,
   "metadata": {},
   "outputs": [],
   "source": [
    "include(\"/Users/meesvandartel/Desktop/Coursework/CGT/DeepEWA/FasterDeepEWA.jl\")\n",
    "using .fEWA, ProgressMeter"
   ]
  },
  {
   "cell_type": "code",
   "execution_count": 3,
   "metadata": {},
   "outputs": [
    {
     "name": "stderr",
     "output_type": "stream",
     "text": [
      "\u001b[32mProgress: 100%|█████████████████████████████████████████| Time: 0:00:15\u001b[39m1:30\u001b[39m\n"
     ]
    }
   ],
   "source": [
    "# payoff matrixes\n",
    "coord = [[[5 1; 1 4], [5 1; 1 4]], fEWA.find_NE_pure([[5 1; 1 4], [5 1; 1 4]])]\n",
    "\n",
    "dom = [[[5 0; 20 1], [5 0; 20 1]], fEWA.find_NE_pure([[5 0; 20 1], [5 0; 20 1]])]\n",
    "\n",
    "cyclic = [[[5 1;1 4],[-5 1; 1 -4]], fEWA.find_NE_pure([[5 1;1 4],[-5 1; 1 -4]])]\n",
    "\n",
    "params = fEWA.init_EWA(;\n",
    "    α=1.0, κ=0.0, δ=1.0, β=Inf64,\n",
    "    game=coord)\n",
    "\n",
    "@showprogress for iter in 1:1000000\n",
    "    for times in 1:10\n",
    "        sₜ, Qₜ, lim_chaos, NE_found = fEWA.run_EWA_pure(params; T=1000000)\n",
    "    end\n",
    "end"
   ]
  }
 ],
 "metadata": {
  "kernelspec": {
   "display_name": "Julia 1.11.4",
   "language": "julia",
   "name": "julia-1.11"
  },
  "language_info": {
   "file_extension": ".jl",
   "mimetype": "application/julia",
   "name": "julia",
   "version": "1.11.4"
  }
 },
 "nbformat": 4,
 "nbformat_minor": 2
}
