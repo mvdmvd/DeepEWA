{
 "cells": [
  {
   "cell_type": "code",
   "execution_count": 1,
   "metadata": {},
   "outputs": [],
   "source": [
    "include(\"/Users/meesvandartel/Desktop/Coursework/CGT/DeepEWA/FasterDeepEWA.jl\")\n",
    "using .fEWA, ProgressMeter"
   ]
  },
  {
   "cell_type": "markdown",
   "metadata": {},
   "source": [
    "#### Special Cases:\n",
    "$$ \n",
    "\\begin{aligned}\n",
    "&\\text{best response dynamics:  }\\alpha=1, \\quad \\beta = +\\infty, \\quad \\delta = 1, \\quad \\forall \\kappa \\in [0,1] \\\\\n",
    "&\\text{reinforcement learning:  }\\delta = 0, \\quad \\forall \\kappa \\in [0,1] \\\\\n",
    "&\\quad\\text{average RL: } \\quad \\kappa=0, \\quad \\text{cummulative RL: } \\quad \\kappa = 1 \\\\\n",
    "&\\text{ficticious play:  }\\alpha=0, \\quad \\beta = +\\infty, \\quad \\delta = 1, \\quad  \\kappa = 0\\\\\n",
    "&\\quad\\text{stochastic ficticious play:  } \\beta < +\\infty\\\\\n",
    "&\\text{replicator dynamics:  } \\beta \\rightarrow 0, \\quad \\alpha = 0, \\quad \\delta = 1, \\quad \\forall \\kappa \\in (0,1]\\\\\n",
    "&\\text{logit dynamics:  } \\alpha = 1, \\quad \\delta = 1,\\quad \\kappa = 1\n",
    "\\end{aligned}\n",
    "$$ "
   ]
  },
  {
   "cell_type": "code",
   "execution_count": 2,
   "metadata": {},
   "outputs": [],
   "source": [
    "#=\n",
    "coord = [[[5 1; 1 4], [5 1; 1 4]], fEWA.find_NE_pure([[5 1; 1 4], [5 1; 1 4]])]\n",
    "\n",
    "dom = [[[5 0; 20 1], [5 0; 20 1]], fEWA.find_NE_pure([[5 0; 20 1], [5 0; 20 1]])]\n",
    "\n",
    "cyclic = [[[5 1;1 4],[-5 1; 1 -4]], fEWA.find_NE_pure([[5 1;1 4],[-5 1; 1 -4]])]\n",
    "\n",
    "params = fEWA.init_EWA(;\n",
    "    α=0.0, κ=0.0, δ=1.0, β=2.0,\n",
    "    game=coord)\n",
    "\n",
    "@showprogress for iter in 1:1000\n",
    "    for times in 1:1\n",
    "        sₜ, μ, Qₜ, lim_chaos, NE_found = fEWA.Run_FastEWA(params; T=1000000)\n",
    "    end\n",
    "end\n",
    "=#"
   ]
  },
  {
   "cell_type": "code",
   "execution_count": 10,
   "metadata": {},
   "outputs": [
    {
     "data": {
      "text/plain": [
       "([1, 1], [[0.8880471119528881, 0.1119528880471119], [0.8880571119428881, 0.11194288805711194]], [[5.0, 1.0], [5.0, 1.0]], false)"
      ]
     },
     "execution_count": 10,
     "metadata": {},
     "output_type": "execute_result"
    }
   ],
   "source": [
    "# payoff matrixes\n",
    "coord = [[[5 1; 1 4], [5 1; 1 4]], fEWA.find_NE_mixed([[5 1; 1 4], [5 1; 1 4]])]\n",
    "\n",
    "dom = [[[5 0; 20 1], [5 0; 20 1]], fEWA.find_NE_mixed([[5 0; 20 1], [5 0; 20 1]])]\n",
    "\n",
    "cyclic = [[[5 1;1 4],[-5 1; 1 -4]], fEWA.find_NE_mixed([[5 1;1 4],[-5 1; 1 -4]])]\n",
    "\n",
    "params = fEWA.init_EWA(;\n",
    "    α=0.0, κ=0.0, δ=1.0, β=2.0,\n",
    "    game=coord)\n",
    "\n",
    "sₜ, σ, Qₜ, NE_found = fEWA.Run_FastEWA(params; T=1000000)\n",
    "\n"
   ]
  }
 ],
 "metadata": {
  "kernelspec": {
   "display_name": "Julia 1.11.4",
   "language": "julia",
   "name": "julia-1.11"
  },
  "language_info": {
   "file_extension": ".jl",
   "mimetype": "application/julia",
   "name": "julia",
   "version": "1.11.4"
  }
 },
 "nbformat": 4,
 "nbformat_minor": 2
}
