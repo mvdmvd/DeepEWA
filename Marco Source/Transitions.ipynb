{
 "cells": [
  {
   "cell_type": "code",
   "execution_count": 1,
   "metadata": {},
   "outputs": [
    {
     "name": "stdout",
     "output_type": "stream",
     "text": [
      "Populating the interactive namespace from numpy and matplotlib\n"
     ]
    }
   ],
   "source": [
    "%pylab inline\n",
    "import pickle"
   ]
  },
  {
   "cell_type": "code",
   "execution_count": 2,
   "metadata": {},
   "outputs": [],
   "source": [
    "from scipy.optimize import fsolve\n",
    "from matplotlib.colors import LinearSegmentedColormap\n",
    "import matplotlib.patches as mpatches"
   ]
  },
  {
   "cell_type": "code",
   "execution_count": 3,
   "metadata": {},
   "outputs": [],
   "source": [
    "rcParams['text.usetex'] = True"
   ]
  },
  {
   "cell_type": "code",
   "execution_count": 4,
   "metadata": {},
   "outputs": [],
   "source": [
    "def completeEWA(N,x,y,Nt,Pix, Piy, alpha, beta, kappa, delta):\n",
    "    Nold = Nt\n",
    "    Nt = (1-alpha)*(1-kappa)*Nt+1\n",
    "    \n",
    "    x1 = x**(1-alpha)*Nold/Nt\n",
    "    x2 = exp(beta * ((delta*ones(N) + (1-delta)*x)*dot(Pix,y))/Nt)\n",
    "    \n",
    "    y1 = y**(1-alpha)*Nold/Nt\n",
    "    y2 = exp(beta * ((delta*ones(N) + (1-delta)*y)*dot(Piy,x))/Nt)\n",
    "    \n",
    "    Zx =  dot(x1,x2)\n",
    "    Zy =  dot(y1,y2) \n",
    "\n",
    "    x = x1*x2 / Zx\n",
    "    y = y1*y2 / Zy\n",
    "    \n",
    "    return x,y,Nt\n",
    "\n",
    "def runcompleteEWA(N,maxit,seedpayoff,seedic,alpha,beta,kappa,delta, gamma,Pix=0,Piy=0):        \n",
    "\n",
    "    if (type(Pix)==type(0) and type(Piy)==type(0)):\n",
    "        Pix,Piy=initializepayoff(seedpayoff,gamma,N)\n",
    "        \n",
    "    recx = zeros((maxit+1 , N))\n",
    "    recy = zeros((maxit+1 , N))\n",
    "\n",
    "    x,y = initializestrategies(seedic,N)\n",
    "    recx[0][:]=x     \n",
    "    recy[0][:]=y \n",
    "    Nt = 1\n",
    "    \n",
    "    for step in range(maxit):\n",
    "        x,y,Nt=completeEWA(N,x,y,Nt,Pix, Piy, alpha, beta, kappa, delta)\n",
    "        recx[step+1][:]=x\n",
    "        recy[step+1][:]=y\n",
    "        \n",
    "    return recx,recy\n",
    "\n",
    "#Initial condition for the mixed strategy vectors        \n",
    "def initializestrategies(seed,N):\n",
    "    \n",
    "    #random.seed(seed)\n",
    "    random.seed(seed)\n",
    "    x = []\n",
    "    y = []\n",
    "    for i in range(N):\n",
    "        x.append(random.random())\n",
    "        y.append(random.random())\n",
    "    x = asarray(x)\n",
    "    y = asarray(y)\n",
    "    x = x / sum(x)\n",
    "    y = y / sum(y)\n",
    "    return x,y"
   ]
  },
  {
   "cell_type": "code",
   "execution_count": 342,
   "metadata": {},
   "outputs": [
    {
     "name": "stdout",
     "output_type": "stream",
     "text": [
      "1.0\n"
     ]
    },
    {
     "data": {
      "image/png": "[encoded data removed]",
      "text/plain": [
       "<Figure size 432x288 with 1 Axes>"
      ]
     },
     "metadata": {
      "needs_background": "light"
     },
     "output_type": "display_data"
    }
   ],
   "source": [
    "N=2\n",
    "Pix=array([[4,1],[1,3]])\n",
    "Piy=array([[-4,0],[0,-3]])\n",
    "alpha=0.0\n",
    "beta=0.1\n",
    "kappa=1.\n",
    "delta=0.3\n",
    "\n",
    "maxit=10000\n",
    "seedpayoff=1\n",
    "seedic=3\n",
    "gamma=0\n",
    "\n",
    "recx,recy=runcompleteEWA(N,maxit,seedpayoff,seedic,alpha,beta,kappa,delta, gamma,Pix,Piy)\n",
    "\n",
    "plot(recx[:,0])\n",
    "print(recx[maxit-1,0])"
   ]
  },
  {
   "cell_type": "code",
   "execution_count": 61,
   "metadata": {},
   "outputs": [
    {
     "name": "stdout",
     "output_type": "stream",
     "text": [
      "0.6077286003577768\n"
     ]
    },
    {
     "data": {
      "image/png": "[encoded data removed]",
      "text/plain": [
       "<Figure size 432x288 with 1 Axes>"
      ]
     },
     "metadata": {
      "needs_background": "light"
     },
     "output_type": "display_data"
    }
   ],
   "source": [
    "N=2\n",
    "Pix=array([[4,0],[0,3]])\n",
    "Piy=array([[-4,0],[0,-3]])\n",
    "alpha=0.000\n",
    "beta=0.1\n",
    "kappa=0.\n",
    "delta=1\n",
    "\n",
    "maxit=10000\n",
    "seedpayoff=1\n",
    "seedic=3\n",
    "gamma=0\n",
    "\n",
    "recx,recy=runcompleteEWA(N,maxit,seedpayoff,seedic,alpha,beta,kappa,delta, gamma,Pix,Piy)\n",
    "\n",
    "plot(recx[:,0])\n",
    "print(recx[maxit-1,0])"
   ]
  },
  {
   "cell_type": "code",
   "execution_count": 5,
   "metadata": {},
   "outputs": [],
   "source": [
    "#Define findsolutions function\n",
    "\n",
    "def findsolutions(alpha,beta,kappa,A,B,C,D):\n",
    "    betatilde = beta*(1-(1-alpha)*(1-kappa))\n",
    "    fx = lambda x: x - betatilde/alpha*(A * tanh(betatilde/alpha * (C * tanh(x)+D)) + B)\n",
    "    fy = lambda y: y - betatilde/alpha*(C * tanh(betatilde/alpha * (A * tanh(y)+B)) + D)\n",
    "    solxlist = [] #I will store here the solutions xstar\n",
    "    solylist = [] #I will store here the solutions ystar\n",
    "    step = 0.1 #Step to search for the solutions\n",
    "    initvalue = -10 #Starting point to search for the solutions\n",
    "    endvalue = abs(initvalue) + step #End point to search for the solutions: the + step is because \n",
    "    for ic in arange(initvalue,endvalue,step):\n",
    "        if abs(ic) >= step: #I need this because if I start at zero, there are numerical problems. I take off the points at distance step\n",
    "            solx = fsolve(fx,ic)\n",
    "            soly = fsolve(fy,ic)\n",
    "            solxlist.append(round(float(solx),5))\n",
    "            solylist.append(round(float(soly),5))\n",
    "    solxlist = list(set(list(solxlist))) #Get rid of duplicated solutions\n",
    "    solylist = list(set(list(solylist))) #Get rid of duplicated solutions\n",
    "    \n",
    "    solutionstilde = [] #Find the right couplings (xstar,ystar)\n",
    "    for solx in solxlist:\n",
    "        for soly in solylist:\n",
    "            #print solx\n",
    "            #print soly\n",
    "            #print round(solx,2)\n",
    "            #print round( (1-alpha) * solx + betatilde * (A * tanh(soly) + B) , 2)\n",
    "            #print round(soly,2)\n",
    "            #print round( (1-alpha) * soly + betatilde * (C * tanh(solx) + D) , 2)\n",
    "            s1 = round(solx,2) == round( (1-alpha) * solx + betatilde * (A * tanh(soly) + B) , 2)\n",
    "            s2 = round(soly,2) == round( (1-alpha) * soly + betatilde * (C * tanh(solx) + D) , 2)\n",
    "            if s1 and s2:\n",
    "                solutionstilde.append((solx,soly))\n",
    "    stable = []\n",
    "    unstable = []\n",
    "    for (xtilde,ytilde) in solutionstilde:\n",
    "        J11 = 1 - alpha\n",
    "        J12 = A * betatilde / (cosh(ytilde))**2\n",
    "        J21 = C * betatilde / (cosh(xtilde))**2\n",
    "        J22 = 1 - alpha\n",
    "        M=numpy.matrix([[J11, J12],[J21, J22]])\n",
    "        eigenvalues=linalg.eigvals(M)\n",
    "        control = 0\n",
    "        for eigen in eigenvalues:        \n",
    "            if abs(eigen)>1: \n",
    "                control = 1                        \n",
    "        if control == 1: unstable.append((xtilde,ytilde))\n",
    "        if control == 0: stable.append((xtilde,ytilde))\n",
    "    return solutionstilde,unstable,stable"
   ]
  },
  {
   "cell_type": "code",
   "execution_count": 6,
   "metadata": {},
   "outputs": [
    {
     "data": {
      "text/plain": [
       "array([[9.35762297e-14, 9.35762297e-14],\n",
       "       [1.00000000e+00, 1.00000000e+00]])"
      ]
     },
     "execution_count": 6,
     "metadata": {},
     "output_type": "execute_result"
    }
   ],
   "source": [
    "A=7/4\n",
    "B=1/4\n",
    "C=A\n",
    "D=B\n",
    "kappa=0\n",
    "alpha=0.5\n",
    "beta=10\n",
    "\n",
    "solutionstilde,unstable,stable = findsolutions(alpha,beta,kappa,A,B,C,D)\n",
    "sol = 1/(1+exp(-2*array(stable)))\n",
    "sol"
   ]
  },
  {
   "cell_type": "code",
   "execution_count": 6,
   "metadata": {},
   "outputs": [],
   "source": [
    "def search_parameter_space(A,B,C,D,kappa,alphalist,betalist,ngrid):\n",
    "    \n",
    "    filename = \"./transitions/taxonomy_A_\"+str(A)+\"_B_\"+str(B)+\"_C_\"+\\\n",
    "            str(C)+\"_D_\"+str(D)+\"_k_\"+str(kappa)+\"_alpha_beta.pickle\"\n",
    "    \n",
    "    taxonomy = [[np.nan for x in range(ngrid+1)] for x in range(ngrid+1)] \n",
    "    i=0\n",
    "    j=0\n",
    "    maxbeta=max(betalist)\n",
    "    \n",
    "    for beta in betalist:\n",
    "        j = 0\n",
    "        for alpha in alphalist:       \n",
    "            solutionstilde,unstable,stable = findsolutions(alpha,beta,kappa,A,B,C,D)\n",
    "            sol = 1/(1+exp(-2*array(stable)))\n",
    "\n",
    "            if sol.shape[0]<=2:\n",
    "                taxonomy[i][j] = sol\n",
    "            \n",
    "            j = j + 1\n",
    "        i = i + 1   \n",
    "        \n",
    "    outfile = open(filename,'wb')\n",
    "    pickle.dump(taxonomy,outfile)\n",
    "    outfile.close()\n",
    "    \n",
    "    return taxonomy"
   ]
  },
  {
   "cell_type": "code",
   "execution_count": 7,
   "metadata": {},
   "outputs": [
    {
     "name": "stderr",
     "output_type": "stream",
     "text": [
      "C:\\Users\\marco\\anaconda3\\lib\\site-packages\\ipykernel_launcher.py:5: RuntimeWarning: invalid value encountered in double_scalars\n",
      "  \"\"\"\n",
      "C:\\Users\\marco\\anaconda3\\lib\\site-packages\\scipy\\optimize\\minpack.py:162: RuntimeWarning: The iteration is not making good progress, as measured by the \n",
      "  improvement from the last ten iterations.\n",
      "  warnings.warn(msg, RuntimeWarning)\n",
      "C:\\Users\\marco\\anaconda3\\lib\\site-packages\\ipykernel_launcher.py:6: RuntimeWarning: invalid value encountered in double_scalars\n",
      "  \n",
      "C:\\Users\\marco\\anaconda3\\lib\\site-packages\\scipy\\optimize\\minpack.py:162: RuntimeWarning: The iteration is not making good progress, as measured by the \n",
      "  improvement from the last five Jacobian evaluations.\n",
      "  warnings.warn(msg, RuntimeWarning)\n",
      "C:\\Users\\marco\\anaconda3\\lib\\site-packages\\ipykernel_launcher.py:5: RuntimeWarning: divide by zero encountered in double_scalars\n",
      "  \"\"\"\n",
      "C:\\Users\\marco\\anaconda3\\lib\\site-packages\\ipykernel_launcher.py:6: RuntimeWarning: divide by zero encountered in double_scalars\n",
      "  \n",
      "C:\\Users\\marco\\anaconda3\\lib\\site-packages\\ipykernel_launcher.py:38: RuntimeWarning: overflow encountered in double_scalars\n",
      "C:\\Users\\marco\\anaconda3\\lib\\site-packages\\ipykernel_launcher.py:39: RuntimeWarning: overflow encountered in double_scalars\n"
     ]
    }
   ],
   "source": [
    "A=7/4\n",
    "B=1/4\n",
    "C=A\n",
    "D=B\n",
    "for kappa in [0,0.25,0.5,0.75,1]:\n",
    "    ngrid = 100\n",
    "\n",
    "    alphalist=linspace(0,1,ngrid+1)\n",
    "    betalist=linspace(2,0,ngrid+1)\n",
    "\n",
    "    taxonomy = search_parameter_space(A,B,C,D,kappa,alphalist,betalist,ngrid)"
   ]
  },
  {
   "cell_type": "code",
   "execution_count": 8,
   "metadata": {},
   "outputs": [
    {
     "name": "stderr",
     "output_type": "stream",
     "text": [
      "C:\\Users\\marco\\anaconda3\\lib\\site-packages\\ipykernel_launcher.py:5: RuntimeWarning: invalid value encountered in double_scalars\n",
      "  \"\"\"\n",
      "C:\\Users\\marco\\anaconda3\\lib\\site-packages\\ipykernel_launcher.py:6: RuntimeWarning: invalid value encountered in double_scalars\n",
      "  \n",
      "C:\\Users\\marco\\anaconda3\\lib\\site-packages\\ipykernel_launcher.py:5: RuntimeWarning: divide by zero encountered in double_scalars\n",
      "  \"\"\"\n",
      "C:\\Users\\marco\\anaconda3\\lib\\site-packages\\ipykernel_launcher.py:6: RuntimeWarning: divide by zero encountered in double_scalars\n",
      "  \n",
      "C:\\Users\\marco\\anaconda3\\lib\\site-packages\\ipykernel_launcher.py:38: RuntimeWarning: overflow encountered in double_scalars\n",
      "C:\\Users\\marco\\anaconda3\\lib\\site-packages\\ipykernel_launcher.py:39: RuntimeWarning: overflow encountered in double_scalars\n"
     ]
    }
   ],
   "source": [
    "A=1/4\n",
    "B=7/4\n",
    "C=A\n",
    "D=B\n",
    "for kappa in [0,0.25,0.5,0.75,1]:\n",
    "    ngrid = 100\n",
    "\n",
    "    alphalist=linspace(0,1,ngrid+1)\n",
    "    betalist=linspace(2,0,ngrid+1)\n",
    "\n",
    "    taxonomy = search_parameter_space(A,B,C,D,kappa,alphalist,betalist,ngrid)"
   ]
  },
  {
   "cell_type": "code",
   "execution_count": 9,
   "metadata": {},
   "outputs": [
    {
     "name": "stderr",
     "output_type": "stream",
     "text": [
      "C:\\Users\\marco\\anaconda3\\lib\\site-packages\\ipykernel_launcher.py:5: RuntimeWarning: invalid value encountered in double_scalars\n",
      "  \"\"\"\n",
      "C:\\Users\\marco\\anaconda3\\lib\\site-packages\\ipykernel_launcher.py:6: RuntimeWarning: invalid value encountered in double_scalars\n",
      "  \n",
      "C:\\Users\\marco\\anaconda3\\lib\\site-packages\\ipykernel_launcher.py:5: RuntimeWarning: divide by zero encountered in double_scalars\n",
      "  \"\"\"\n",
      "C:\\Users\\marco\\anaconda3\\lib\\site-packages\\ipykernel_launcher.py:6: RuntimeWarning: divide by zero encountered in double_scalars\n",
      "  \n"
     ]
    }
   ],
   "source": [
    "A=7/4\n",
    "B=1/4\n",
    "C=-A\n",
    "D=-B\n",
    "for kappa in [0,0.25,0.5,0.75,1]:\n",
    "    ngrid = 100\n",
    "\n",
    "    alphalist=linspace(0,1,ngrid+1)\n",
    "    betalist=linspace(2,0,ngrid+1)\n",
    "\n",
    "    taxonomy = search_parameter_space(A,B,C,D,kappa,alphalist,betalist,ngrid)"
   ]
  },
  {
   "cell_type": "code",
   "execution_count": 234,
   "metadata": {},
   "outputs": [
    {
     "data": {
      "text/plain": [
       "<matplotlib.legend.Legend at 0x1fa10a4a048>"
      ]
     },
     "execution_count": 234,
     "metadata": {},
     "output_type": "execute_result"
    },
    {
     "data": {
      "image/png": "[encoded data removed]",
      "text/plain": [
       "<Figure size 216x216 with 1 Axes>"
      ]
     },
     "metadata": {
      "needs_background": "light"
     },
     "output_type": "display_data"
    }
   ],
   "source": [
    "A=7/4\n",
    "B=1/4\n",
    "C=A\n",
    "D=B\n",
    "kappa=0.5\n",
    "\n",
    "filename = \"./transitions/taxonomy_A_\"+str(A)+\"_B_\"+str(B)+\"_C_\"+\\\n",
    "            str(C)+\"_D_\"+str(D)+\"_k_\"+str(kappa)+\"_alpha_beta.pickle\"\n",
    "\n",
    "with open(filename, 'rb') as f:\n",
    "    solutions = pickle.load(f)\n",
    "    \n",
    "ngrid = len(solutions) - 1\n",
    "taxonomy = [[np.nan for x in range(ngrid+1)] for x in range(ngrid+1)] \n",
    "i=0\n",
    "j=0\n",
    "maxbeta=max(betalist)\n",
    "\n",
    "for beta in betalist:\n",
    "    j = 0\n",
    "    for alpha in alphalist:       \n",
    "        \n",
    "        sol = solutions[i][j]\n",
    "        \n",
    "        if isinstance(sol,float): \n",
    "            j = j + 1\n",
    "            continue\n",
    "        \n",
    "        if sol.shape[0]!=0:\n",
    "            if sol.shape[0]==2: taxonomy[i][j]=0\n",
    "            if sol.shape[0]==1 & (abs(sol[0][0]-0.5)>0.2): taxonomy[i][j]=1\n",
    "            if sol.shape[0]==1 & (abs(sol[0][0]-0.5)<0.2): taxonomy[i][j]=2\n",
    "        else:\n",
    "            taxonomy[i][j] = 3\n",
    "        j = j + 1\n",
    "    i = i + 1   \n",
    "    \n",
    "fig=figure(figsize=(3,3))\n",
    "ax = fig.add_subplot(1,1,1) \n",
    "vmax=3.\n",
    "cmap = LinearSegmentedColormap.from_list('mycmap', [(0 / vmax, 'blue'),\n",
    "                                                    (1 / vmax, 'yellow'),\n",
    "                                                    (2 / vmax, 'green'),\n",
    "                                                    (3 / vmax, 'red')]\n",
    "                                        )\n",
    "#pcolor(Alist, Blist, array(taxonomy), cmap=cmap, vmin=0, vmax=3.0)\n",
    "imshow(taxonomy, cmap=cmap, vmin=0, vmax=3.0,interpolation=\"none\",extent=[0,1,0,1], alpha=0.7)\n",
    "\n",
    "xlabel(r'$\\alpha$',fontsize=15)\n",
    "ylabel(r'$\\beta$',fontsize=15)\n",
    "#h.set_rotation(1)\n",
    "ax.set_xticks(linspace(0,1,5))\n",
    "ax.set_xticklabels(linspace(0,1,5), fontsize = 15)\n",
    "ax.set_yticks(linspace(0,1,6))\n",
    "ax.set_yticklabels(linspace(0,maxbeta,6), fontsize = 15)\n",
    "#ax.yaxis.labelpad = 40\n",
    "ax.tick_params(axis='x', pad=10)\n",
    "ax.tick_params(axis='y', pad=10)\n",
    "\n",
    "multiplefp = mpatches.Patch(color='blue', alpha=0.7, label='Multiple fixed points')\n",
    "uniquepurefp = mpatches.Patch(color='yellow',alpha=0.7, label='Unique pure fixed point')\n",
    "uniquemixedfp = mpatches.Patch(color='green', alpha=0.7,label='Unique mixed fixed point')\n",
    "nomixedfp = mpatches.Patch(color='red', alpha=0.7,label='No stable fixed point')\n",
    "\n",
    "legend(handles=[multiplefp,uniquepurefp,uniquemixedfp,nomixedfp],fontsize = 10)"
   ]
  },
  {
   "cell_type": "code",
   "execution_count": 235,
   "metadata": {},
   "outputs": [
    {
     "data": {
      "text/plain": [
       "<matplotlib.legend.Legend at 0x1fa105c8dc8>"
      ]
     },
     "execution_count": 235,
     "metadata": {},
     "output_type": "execute_result"
    },
    {
     "data": {
      "image/png": "[encoded data removed]",
      "text/plain": [
       "<Figure size 216x216 with 1 Axes>"
      ]
     },
     "metadata": {
      "needs_background": "light"
     },
     "output_type": "display_data"
    }
   ],
   "source": [
    "A=1/4\n",
    "B=7/4\n",
    "C=A\n",
    "D=B\n",
    "kappa=0.5\n",
    "\n",
    "filename = \"./transitions/taxonomy_A_\"+str(A)+\"_B_\"+str(B)+\"_C_\"+\\\n",
    "            str(C)+\"_D_\"+str(D)+\"_k_\"+str(kappa)+\"_alpha_beta.pickle\"\n",
    "\n",
    "with open(filename, 'rb') as f:\n",
    "    solutions = pickle.load(f)\n",
    "    \n",
    "ngrid = len(solutions) - 1\n",
    "taxonomy = [[np.nan for x in range(ngrid+1)] for x in range(ngrid+1)] \n",
    "i=0\n",
    "j=0\n",
    "maxbeta=max(betalist)\n",
    "\n",
    "for beta in betalist:\n",
    "    j = 0\n",
    "    for alpha in alphalist:       \n",
    "        \n",
    "        sol = solutions[i][j]\n",
    "        \n",
    "        if isinstance(sol,float): \n",
    "            j = j + 1\n",
    "            continue\n",
    "        \n",
    "        if sol.shape[0]!=0:\n",
    "            if sol.shape[0]==2: taxonomy[i][j]=0\n",
    "            if sol.shape[0]==1 & (abs(sol[0][0]-0.5)>0.2): taxonomy[i][j]=1\n",
    "            if sol.shape[0]==1 & (abs(sol[0][0]-0.5)<0.2): taxonomy[i][j]=2\n",
    "        else:\n",
    "            taxonomy[i][j] = 3\n",
    "        j = j + 1\n",
    "    i = i + 1   \n",
    "    \n",
    "fig=figure(figsize=(3,3))\n",
    "ax = fig.add_subplot(1,1,1) \n",
    "vmax=3.\n",
    "cmap = LinearSegmentedColormap.from_list('mycmap', [(0 / vmax, 'blue'),\n",
    "                                                    (1 / vmax, 'yellow'),\n",
    "                                                    (2 / vmax, 'green'),\n",
    "                                                    (3 / vmax, 'red')]\n",
    "                                        )\n",
    "#pcolor(Alist, Blist, array(taxonomy), cmap=cmap, vmin=0, vmax=3.0)\n",
    "imshow(taxonomy, cmap=cmap, vmin=0, vmax=3.0,interpolation=\"none\",extent=[0,1,0,1], alpha=0.7)\n",
    "\n",
    "xlabel(r'$\\alpha$',fontsize=15)\n",
    "ylabel(r'$\\beta$',fontsize=15)\n",
    "#h.set_rotation(1)\n",
    "ax.set_xticks(linspace(0,1,5))\n",
    "ax.set_xticklabels(linspace(0,1,5), fontsize = 15)\n",
    "ax.set_yticks(linspace(0,1,6))\n",
    "ax.set_yticklabels(linspace(0,maxbeta,6), fontsize = 15)\n",
    "#ax.yaxis.labelpad = 40\n",
    "ax.tick_params(axis='x', pad=10)\n",
    "ax.tick_params(axis='y', pad=10)\n",
    "\n",
    "multiplefp = mpatches.Patch(color='blue', alpha=0.7, label='Multiple fixed points')\n",
    "uniquepurefp = mpatches.Patch(color='yellow',alpha=0.7, label='Unique pure fixed point')\n",
    "uniquemixedfp = mpatches.Patch(color='green', alpha=0.7,label='Unique mixed fixed point')\n",
    "nomixedfp = mpatches.Patch(color='red', alpha=0.7,label='No stable fixed point')\n",
    "\n",
    "legend(handles=[multiplefp,uniquepurefp,uniquemixedfp,nomixedfp],fontsize = 10)"
   ]
  },
  {
   "cell_type": "code",
   "execution_count": 236,
   "metadata": {},
   "outputs": [
    {
     "data": {
      "text/plain": [
       "<matplotlib.legend.Legend at 0x1fa0e6c42c8>"
      ]
     },
     "execution_count": 236,
     "metadata": {},
     "output_type": "execute_result"
    },
    {
     "data": {
      "image/png": "[encoded data removed]",
      "text/plain": [
       "<Figure size 216x216 with 1 Axes>"
      ]
     },
     "metadata": {
      "needs_background": "light"
     },
     "output_type": "display_data"
    }
   ],
   "source": [
    "A=7/4\n",
    "B=1/4\n",
    "C=-A\n",
    "D=-B\n",
    "kappa=0.5\n",
    "\n",
    "filename = \"./transitions/taxonomy_A_\"+str(A)+\"_B_\"+str(B)+\"_C_\"+\\\n",
    "            str(C)+\"_D_\"+str(D)+\"_k_\"+str(kappa)+\"_alpha_beta.pickle\"\n",
    "\n",
    "with open(filename, 'rb') as f:\n",
    "    solutions = pickle.load(f)\n",
    "    \n",
    "ngrid = len(solutions) - 1\n",
    "taxonomy = [[np.nan for x in range(ngrid+1)] for x in range(ngrid+1)] \n",
    "i=0\n",
    "j=0\n",
    "maxbeta=max(betalist)\n",
    "\n",
    "for beta in betalist:\n",
    "    j = 0\n",
    "    for alpha in alphalist:       \n",
    "        \n",
    "        sol = solutions[i][j]\n",
    "        \n",
    "        if isinstance(sol,float): \n",
    "            j = j + 1\n",
    "            continue\n",
    "        \n",
    "        if sol.shape[0]!=0:\n",
    "            if sol.shape[0]==2: taxonomy[i][j]=0\n",
    "            if sol.shape[0]==1 & (abs(sol[0][0]-0.5)>0.2): taxonomy[i][j]=1\n",
    "            if sol.shape[0]==1 & (abs(sol[0][0]-0.5)<0.2): taxonomy[i][j]=2\n",
    "        else:\n",
    "            taxonomy[i][j] = 3\n",
    "        j = j + 1\n",
    "    i = i + 1   \n",
    "    \n",
    "fig=figure(figsize=(3,3))\n",
    "ax = fig.add_subplot(1,1,1) \n",
    "vmax=3.\n",
    "cmap = LinearSegmentedColormap.from_list('mycmap', [(0 / vmax, 'blue'),\n",
    "                                                    (1 / vmax, 'yellow'),\n",
    "                                                    (2 / vmax, 'green'),\n",
    "                                                    (3 / vmax, 'red')]\n",
    "                                        )\n",
    "#pcolor(Alist, Blist, array(taxonomy), cmap=cmap, vmin=0, vmax=3.0)\n",
    "imshow(taxonomy, cmap=cmap, vmin=0, vmax=3.0,interpolation=\"none\",extent=[0,1,0,1], alpha=0.7)\n",
    "\n",
    "xlabel(r'$\\alpha$',fontsize=15)\n",
    "ylabel(r'$\\beta$',fontsize=15)\n",
    "#h.set_rotation(1)\n",
    "ax.set_xticks(linspace(0,1,5))\n",
    "ax.set_xticklabels(linspace(0,1,5), fontsize = 15)\n",
    "ax.set_yticks(linspace(0,1,6))\n",
    "ax.set_yticklabels(linspace(0,maxbeta,6), fontsize = 15)\n",
    "#ax.yaxis.labelpad = 40\n",
    "ax.tick_params(axis='x', pad=10)\n",
    "ax.tick_params(axis='y', pad=10)\n",
    "\n",
    "multiplefp = mpatches.Patch(color='blue', alpha=0.7, label='Multiple fixed points')\n",
    "uniquepurefp = mpatches.Patch(color='yellow',alpha=0.7, label='Unique pure fixed point')\n",
    "uniquemixedfp = mpatches.Patch(color='green', alpha=0.7,label='Unique mixed fixed point')\n",
    "nomixedfp = mpatches.Patch(color='red', alpha=0.7,label='No stable fixed point')\n",
    "\n",
    "legend(handles=[multiplefp,uniquepurefp,uniquemixedfp,nomixedfp],fontsize = 10)"
   ]
  },
  {
   "cell_type": "code",
   "execution_count": null,
   "metadata": {},
   "outputs": [],
   "source": []
  },
  {
   "cell_type": "code",
   "execution_count": null,
   "metadata": {},
   "outputs": [],
   "source": []
  },
  {
   "cell_type": "code",
   "execution_count": 32,
   "metadata": {},
   "outputs": [
    {
     "data": {
      "text/plain": [
       "0"
      ]
     },
     "execution_count": 32,
     "metadata": {},
     "output_type": "execute_result"
    }
   ],
   "source": [
    "solutions[0][0].shape[0]"
   ]
  },
  {
   "cell_type": "code",
   "execution_count": 100,
   "metadata": {},
   "outputs": [],
   "source": [
    "import matplotlib.lines as mlines\n",
    "import matplotlib.patches as patches\n"
   ]
  },
  {
   "cell_type": "code",
   "execution_count": 201,
   "metadata": {},
   "outputs": [],
   "source": [
    "plt.rcParams['axes.xmargin'] = 0\n",
    "plt.rcParams['axes.ymargin'] = 0\n"
   ]
  },
  {
   "cell_type": "code",
   "execution_count": 441,
   "metadata": {},
   "outputs": [
    {
     "name": "stderr",
     "output_type": "stream",
     "text": [
      "C:\\Users\\marco\\anaconda3\\lib\\site-packages\\ipykernel_launcher.py:52: RuntimeWarning: invalid value encountered in true_divide\n"
     ]
    },
    {
     "data": {
      "image/png": "[encoded data removed]",
      "text/plain": [
       "<Figure size 720x432 with 16 Axes>"
      ]
     },
     "metadata": {
      "needs_background": "light"
     },
     "output_type": "display_data"
    }
   ],
   "source": [
    "color_multiple_nash = \"cyan\"\n",
    "color_multiple_fp = \"blue\"\n",
    "color_single_nash = \"darkorange\"\n",
    "color_single_pure_fp = \"yellow\"\n",
    "color_single_mixed_fp = \"green\"\n",
    "color_no_fp = \"red\"\n",
    "\n",
    "alpha=0.7\n",
    "\n",
    "\n",
    "fig, axs = plt.subplots(4,4, sharey=True,figsize=(10,6))\n",
    "plt.subplots_adjust( \n",
    "                    hspace=1.)\n",
    "\n",
    "\n",
    "fontsize=20\n",
    "\n",
    "ax = axs[0,0]\n",
    "ax.set_xlabel(r'$\\alpha$',fontsize=fontsize,labelpad=-10)\n",
    "ax.set_xticks(linspace(0,1,2))\n",
    "ax.set_xticklabels([\"0\",\"1\"], fontsize = fontsize)\n",
    "r = patches.Rectangle((0, 0.5), 1, 0.5, linewidth=0, edgecolor=color_multiple_fp, facecolor=color_multiple_fp,alpha=alpha)\n",
    "ax.add_patch(r)\n",
    "r = patches.Rectangle((0, 0.25), 1, 0.25, linewidth=0, edgecolor=color_single_pure_fp, facecolor=color_single_pure_fp,\\\n",
    "                     alpha=alpha)\n",
    "ax.add_patch(r)\n",
    "r = patches.Rectangle((0, 0.), 1, 0.25, linewidth=0, edgecolor=color_single_mixed_fp, facecolor=color_single_mixed_fp,\\\n",
    "                     alpha=alpha)\n",
    "ax.add_patch(r)\n",
    "l = mlines.Line2D([0.01,0.99], [1,1],color=color_multiple_nash,clip_on=False,linewidth=4)\n",
    "ax.add_line(l)\n",
    "ax.set_ylabel(r'$\\beta$',fontsize=fontsize)\n",
    "ax.set_yticks(linspace(0,1,2))\n",
    "ax.set_yticklabels([\"0\",r'$\\infty$'], fontsize = fontsize)\n",
    "\n",
    "\n",
    "ax = axs[0,1]\n",
    "ax.set_xlabel(r'$\\alpha$',fontsize=fontsize,labelpad=-10)\n",
    "ax.set_xticks(linspace(0,1,2))\n",
    "ax.set_xticklabels([\"0\",\"1\"], fontsize = fontsize)\n",
    "r = patches.Rectangle((0, 0.25), 1, 0.75, linewidth=0, edgecolor=color_single_pure_fp, facecolor=color_single_pure_fp,\\\n",
    "                     alpha=alpha)\n",
    "ax.add_patch(r)\n",
    "r = patches.Rectangle((0, 0.), 1, 0.25, linewidth=0, edgecolor=color_single_mixed_fp, facecolor=color_single_mixed_fp,\\\n",
    "                     alpha=alpha)\n",
    "ax.add_patch(r)\n",
    "l = mlines.Line2D([0.01,0.99], [1,1],color=color_single_nash,clip_on=False,linewidth=4)\n",
    "ax.add_line(l)\n",
    "\n",
    "ax = axs[0,2]\n",
    "x=linspace(0,1,101)\n",
    "y=sqrt(2*x-x**2)/x/14\n",
    "#fill_between(x, y,color='g',alpha=.5,where=x<=y)\n",
    "ax.fill_between(x, y, 1,color=color_no_fp,alpha=alpha)\n",
    "ax.fill_between(x, y, color=color_single_mixed_fp,alpha=alpha)\n",
    "r = patches.Rectangle((0, 0), x[1], 1, linewidth=0, edgecolor=color_single_mixed_fp, facecolor=color_single_mixed_fp,\\\n",
    "                     alpha=alpha)\n",
    "ax.add_patch(r)\n",
    "ax.set_xlabel(r'$\\alpha$',fontsize=fontsize,labelpad=-10)\n",
    "ax.set_xticks(linspace(0,1,2))\n",
    "ax.set_xticklabels([\"0\",\"1\"], fontsize = fontsize)\n",
    "\n",
    "\n",
    "ax = axs[1,0]\n",
    "ax.set_xlabel(r'$\\alpha$',fontsize=fontsize,labelpad=-10)\n",
    "ax.set_xticks(linspace(0,1,2))\n",
    "ax.set_xticklabels([\"0\",\"1\"], fontsize = fontsize)\n",
    "x=linspace(0,1,101)\n",
    "y=0.25*x\n",
    "ax.fill_between(x, y, color=color_single_mixed_fp,alpha=alpha)\n",
    "y1=0.5*x\n",
    "ax.fill_between(x, y1, 1, color=color_multiple_fp,alpha=alpha)\n",
    "ax.fill_between(x, y, y1, color=color_single_pure_fp,alpha=alpha)\n",
    "l = mlines.Line2D([0.01,0.99], [1,1],color=color_multiple_nash,clip_on=False,linewidth=4)\n",
    "ax.add_line(l)\n",
    "l = mlines.Line2D([0.0,0], [0,1],color=color_multiple_nash,clip_on=False,linewidth=4)\n",
    "ax.add_line(l)\n",
    "ax.set_ylabel(r'$\\beta$',fontsize=fontsize)\n",
    "ax.set_yticks(linspace(0,1,2))\n",
    "ax.set_yticklabels([\"0\",r'$\\infty$'], fontsize = fontsize)\n",
    "\n",
    "\n",
    "ax = axs[1,1]\n",
    "ax.set_xlabel(r'$\\alpha$',fontsize=fontsize,labelpad=-10)\n",
    "ax.set_xticks(linspace(0,1,2))\n",
    "ax.set_xticklabels([\"0\",\"1\"], fontsize = fontsize)\n",
    "x=linspace(0,1,101)\n",
    "y=0.25*x\n",
    "ax.fill_between(x, y, color=color_single_mixed_fp,alpha=alpha)\n",
    "ax.fill_between(x, y, 1, color=color_single_pure_fp,alpha=alpha)\n",
    "l = mlines.Line2D([0.01,0.99], [1,1],color=color_single_nash,clip_on=False,linewidth=4)\n",
    "ax.add_line(l)\n",
    "l = mlines.Line2D([0.0,0], [0,1],color=color_single_nash,clip_on=False,linewidth=4)\n",
    "ax.add_line(l)\n",
    "\n",
    "\n",
    "ax = axs[1,2]\n",
    "ax.set_xlabel(r'$\\alpha$',fontsize=fontsize,labelpad=-10)\n",
    "ax.set_xticks(linspace(0,1,2))\n",
    "ax.set_xticklabels([\"0\",\"1\"], fontsize = fontsize)\n",
    "x=linspace(0,1,101)\n",
    "y=sqrt(2*x-x**2)/4\n",
    "#fill_between(x, y,color='g',alpha=.5,where=x<=y)\n",
    "ax.fill_between(x, y, 1,color=color_no_fp,alpha=alpha)\n",
    "ax.fill_between(x, y, color=color_single_mixed_fp,alpha=alpha)\n",
    "\n",
    "\n",
    "ax = axs[2,0]\n",
    "ax.set_xlabel(r'$\\alpha$',fontsize=fontsize,labelpad=-10)\n",
    "ax.set_xticks(linspace(0,1,2))\n",
    "ax.set_xticklabels([\"0\",\"1\"], fontsize = fontsize)\n",
    "x=linspace(0,1,101)\n",
    "kappa=0.25\n",
    "y=0.25*x/(1-(1-x)*(1-kappa))\n",
    "ax.fill_between(x, y, color=color_single_mixed_fp,alpha=alpha)\n",
    "y1=0.5*x/(1-(1-x)*(1-kappa))\n",
    "ax.fill_between(x, y1, 1, color=color_multiple_fp,alpha=alpha)\n",
    "ax.fill_between(x, y, y1, color=color_single_pure_fp,alpha=alpha)\n",
    "l = mlines.Line2D([0.01,0.99], [1,1],color=color_multiple_nash,clip_on=False,linewidth=4)\n",
    "ax.add_line(l)\n",
    "ax.set_ylabel(r'$\\beta$',fontsize=fontsize)\n",
    "ax.set_yticks(linspace(0,1,2))\n",
    "ax.set_yticklabels([\"0\",r'$\\infty$'], fontsize = fontsize)\n",
    "\n",
    "\n",
    "ax = axs[2,1]\n",
    "ax.set_xlabel(r'$\\alpha$',fontsize=fontsize,labelpad=-10)\n",
    "ax.set_xticks(linspace(0,1,2))\n",
    "ax.set_xticklabels([\"0\",\"1\"], fontsize = fontsize)\n",
    "x=linspace(0,1,101)\n",
    "y=0.25*x/(1-(1-x)*(1-kappa))\n",
    "ax.fill_between(x, y, color=color_single_mixed_fp,alpha=alpha)\n",
    "ax.fill_between(x, y, 1, color=color_single_pure_fp,alpha=alpha)\n",
    "l = mlines.Line2D([0.01,0.99], [1,1],color=color_single_nash,clip_on=False,linewidth=4)\n",
    "ax.add_line(l)\n",
    "\n",
    "\n",
    "ax = axs[2,2]\n",
    "ax.set_xlabel(r'$\\alpha$',fontsize=fontsize,labelpad=-10)\n",
    "ax.set_xticks(linspace(0,1,2))\n",
    "ax.set_xticklabels([\"0\",\"1\"], fontsize = fontsize)\n",
    "x=linspace(0,1,101)\n",
    "kappa=0.25\n",
    "y=sqrt(2*x-x**2)/(1-(1-x)*(1-kappa))/4\n",
    "#fill_between(x, y,color='g',alpha=.5,where=x<=y)\n",
    "ax.fill_between(x, y, 1,color=color_no_fp,alpha=alpha)\n",
    "ax.fill_between(x, y, color=color_single_mixed_fp,alpha=alpha)\n",
    "\n",
    "ax = axs[3,0]\n",
    "ax.set_xlabel(r'$\\delta$',fontsize=fontsize,labelpad=-10)\n",
    "ax.set_xticks(linspace(0,1,2))\n",
    "ax.set_xticklabels([\"0\",\"1\"], fontsize = fontsize)\n",
    "ax.set_ylabel(r'$\\beta$',fontsize=fontsize)\n",
    "ax.set_yticks(linspace(0,1,2))\n",
    "ax.set_yticklabels([\"0\",r'$\\infty$'], fontsize = fontsize)\n",
    "r = patches.Rectangle((0, 0.), 0.2, 1, linewidth=0, edgecolor=color_multiple_fp, facecolor=color_multiple_fp,\\\n",
    "                     alpha=alpha)\n",
    "ax.add_patch(r)\n",
    "r = patches.Rectangle((0.2, 0.), 0.8, 1, linewidth=0, edgecolor=color_multiple_nash, facecolor=color_multiple_nash,\\\n",
    "                     alpha=alpha)\n",
    "ax.add_patch(r)\n",
    "\n",
    "ax = axs[3,1]\n",
    "ax.set_xlabel(r'$\\delta$',fontsize=fontsize,labelpad=-10)\n",
    "ax.set_xticks(linspace(0,1,2))\n",
    "ax.set_xticklabels([\"0\",\"1\"], fontsize = fontsize)\n",
    "r = patches.Rectangle((0, 0.), 2/3, 1, linewidth=0, edgecolor=color_multiple_fp, facecolor=color_multiple_fp,\\\n",
    "                     alpha=alpha)\n",
    "ax.add_patch(r)\n",
    "r = patches.Rectangle((2/3, 0.), 1/3, 1, linewidth=0, edgecolor=color_single_nash, facecolor=color_single_nash,\\\n",
    "                     alpha=alpha)\n",
    "ax.add_patch(r)\n",
    "\n",
    "ax = axs[3,2]\n",
    "ax.set_xlabel(r'$\\delta$',fontsize=fontsize,labelpad=-10)\n",
    "ax.set_xticks(linspace(0,1,2))\n",
    "ax.set_xticklabels([\"0\",\"1\"], fontsize = fontsize)\n",
    "r = patches.Rectangle((0, 0.), 0.25, 1, linewidth=0, edgecolor=color_multiple_fp, facecolor=color_multiple_fp,\\\n",
    "                     alpha=alpha)\n",
    "ax.add_patch(r)\n",
    "r = patches.Rectangle((0.25, 0.), 0.75, 1, linewidth=0, edgecolor=color_no_fp, facecolor=color_no_fp,\\\n",
    "                     alpha=alpha)\n",
    "ax.add_patch(r)\n",
    "\n",
    "ax = axs[0,3]\n",
    "ax.set_xlabel(r'$\\alpha$',fontsize=fontsize,labelpad=-10)\n",
    "ax.set_xticks(linspace(0,1,2))\n",
    "ax.set_xticklabels([\"0\",\"1\"], fontsize = fontsize)\n",
    "l = mlines.Line2D([0.01,0.99], [1,1],color=\"k\",clip_on=False,linewidth=4)\n",
    "ax.add_line(l)\n",
    "l = mlines.Line2D([0.0,0.0], [0.01,0.99],color=\"k\",clip_on=False,linewidth=4)\n",
    "ax.add_line(l)\n",
    "c = patches.Ellipse((1,1), 0.08, 0.2, color='k',clip_on=False)\n",
    "ax.add_patch(c)\n",
    "c = patches.Ellipse((0,1), 0.08, 0.2, color='k',clip_on=False)\n",
    "ax.add_patch(c)\n",
    "\n",
    "\n",
    "ax = axs[1,3]\n",
    "ax.set_xlabel(r'$\\alpha$',fontsize=fontsize,labelpad=-10)\n",
    "ax.set_xticks(linspace(0,1,2))\n",
    "ax.set_xticklabels([\"0\",\"1\"], fontsize = fontsize)\n",
    "c = patches.Ellipse((1,1), 0.08, 0.2, color='k',clip_on=False)\n",
    "ax.add_patch(c)\n",
    "l = mlines.Line2D([0.0,0.0], [0.01,0.1],color=\"k\",clip_on=False,linewidth=4)\n",
    "ax.add_line(l)\n",
    "l = mlines.Line2D([1,1], [0.01,0.99],color=\"k\",clip_on=False,linewidth=4)\n",
    "ax.add_line(l)\n",
    "r = patches.Rectangle((0, 0.), 0.05, 0.14, linewidth=0, edgecolor=\"black\", facecolor=\"grey\",\\\n",
    "                     alpha=0.7)\n",
    "ax.add_patch(r)\n",
    "\n",
    "ax = axs[2,3]\n",
    "ax.set_xlabel(r'$\\alpha$',fontsize=fontsize,labelpad=-10)\n",
    "ax.set_xticks(linspace(0,1,2))\n",
    "ax.set_xticklabels([\"0\",\"1\"], fontsize = fontsize)\n",
    "c = patches.Ellipse((1,1), 0.08, 0.2, color='k',clip_on=False)\n",
    "ax.add_patch(c)\n",
    "\n",
    "ax = axs[3,3]\n",
    "ax.set_xlabel(r'$\\delta$',fontsize=fontsize,labelpad=-10)\n",
    "ax.set_xticks(linspace(0,1,2))\n",
    "ax.set_xticklabels([\"0\",\"1\"], fontsize = fontsize)\n",
    "l = mlines.Line2D([1,1], [0.01,0.1],color=\"k\",clip_on=False,linewidth=4)\n",
    "ax.add_line(l)\n",
    "l = mlines.Line2D([0.0,0.0], [0.01,0.99],color=\"k\",clip_on=False,linewidth=4)\n",
    "ax.add_line(l)\n",
    "\n",
    "\n",
    "plt.text(-3.5,8., r'$\\left( {\\begin{array}{cc} 5,5 & 1,1 \\\\       1,1 & 4,4   \\end{array} } \\right)$',\\\n",
    "         fontsize=20,va=\"center\")\n",
    "\n",
    "plt.text(-2.3,8, r'$\\left( {\\begin{array}{cc} 1,1 & 3,0 \\\\       0,3 & 2,2   \\end{array} } \\right)$',\\\n",
    "         fontsize=20,va=\"center\")\n",
    "\n",
    "plt.text(-1.21,8, r'$\\left( {\\begin{array}{cc} 5,-5 & 1,1 \\\\       1,1 & 4,-4    \\end{array} } \\right)$',\\\n",
    "         fontsize=20,va=\"center\")\n",
    "\n",
    "plt.text(-4.8,6.5, r'$\\kappa=0, \\hspace{5pt} \\delta=1$',\\\n",
    "         fontsize=20,va=\"center\",ha=\"center\")\n",
    "\n",
    "plt.text(-4.8,4.5, r'$\\kappa=1, \\hspace{5pt} \\delta=1$',\\\n",
    "         fontsize=20,va=\"center\",ha=\"center\")\n",
    "\n",
    "plt.text(-4.8,2.5, r'$\\kappa=0.25, \\hspace{5pt} \\delta=1$',\\\n",
    "         fontsize=20,va=\"center\",ha=\"center\")\n",
    "\n",
    "plt.text(-4.8,0.5, r'$\\kappa=1, \\hspace{5pt} \\alpha=0$',\\\n",
    "         fontsize=20,va=\"center\",ha=\"center\")\n",
    "\n",
    "unstablefp = mpatches.Patch(color='red', alpha=0.7, label='Limit cycles and chaos')\n",
    "uniquepurefp = mpatches.Patch(color='yellow',alpha=0.7, label='Unique pure stable FP')\n",
    "uniquemixedfp = mpatches.Patch(color='green', alpha=0.7,label='Unique mixed stable FP')\n",
    "uniquepurene = mpatches.Patch(color='orange', alpha=0.7,label='Unique pure stable NE')\n",
    "multiplepurene = mpatches.Patch(color='cyan', alpha=0.7,label='Multiple pure stable NE')\n",
    "multiplepurefp = mpatches.Patch(color='blue', alpha=0.7,label='Multiple pure stable FP')\n",
    "\n",
    "legend(handles=[multiplepurene,multiplepurefp,uniquepurene,uniquepurefp,\\\n",
    "               uniquemixedfp,unstablefp],fontsize = 15,bbox_to_anchor=(2.4, 5., 1, 0.5))\n",
    "\n",
    "savefig(\"../Wp-taxonomy-2x2games/img/summary_figure.pdf\", bbox_inches = 'tight')"
   ]
  },
  {
   "cell_type": "code",
   "execution_count": 424,
   "metadata": {},
   "outputs": [
    {
     "data": {
      "image/png": "[encoded data removed]",
      "text/plain": [
       "<Figure size 360x360 with 1 Axes>"
      ]
     },
     "metadata": {
      "needs_background": "light"
     },
     "output_type": "display_data"
    }
   ],
   "source": [
    "from mpl_toolkits.mplot3d import Axes3D\n",
    "import matplotlib.pyplot as plt\n",
    "import numpy as np\n",
    "from itertools import product, combinations\n",
    "\n",
    "rcParams['axes.labelsize'] = 20\n",
    "#rcParams['axes.'] = 20\n",
    "\n",
    "fig = plt.figure(figsize=(5,5))\n",
    "ax = fig.add_subplot(111, projection='3d')\n",
    "\n",
    "ax.w_xaxis.set_pane_color((1.0, 1.0, 1.0, 0.0))\n",
    "ax.w_yaxis.set_pane_color((1.0, 1.0, 1.0, 0.0))\n",
    "ax.w_zaxis.set_pane_color((1.0, 1.0, 1.0, 0.0))\n",
    "ax.w_xaxis.line.set_color((1.0, 1.0, 1.0, 0.0))\n",
    "ax.w_yaxis.line.set_color((1.0, 1.0, 1.0, 0.0))\n",
    "ax.w_zaxis.line.set_color((1.0, 1.0, 1.0, 0.0))\n",
    "\n",
    "# Get rid of the ticks\n",
    "ax.set_xticks([-1,1]) \n",
    "ax.set_yticks([-1,1]) \n",
    "ax.set_zticks([-1,1])\n",
    "\n",
    "ax.tick_params(axis='x', which='major', pad=-3)\n",
    "ax.tick_params(axis='y', which='major', pad=-3)\n",
    "ax.tick_params(axis='z', which='major', pad=0)\n",
    "\n",
    "ax.set_xticklabels([\"0\",\"1\"],fontsize=20,ha=\"right\") \n",
    "ax.set_yticklabels([\"0\",r'$\\infty$'],fontsize=20,ha=\"left\") \n",
    "ax.set_zticklabels([\"0\",\"1\"],fontsize=20,ha=\"center\",va=\"center\") \n",
    "\n",
    "# Add the labels\n",
    "ax.set_xlabel(r'$\\alpha$',labelpad=-10 )\n",
    "ax.set_ylabel(r'$\\beta$',labelpad=-10)\n",
    "ax.set_zlabel(r'$\\kappa$',labelpad=-10)\n",
    "\n",
    "#ax.set_aspect(\"equal\")\n",
    "#ax.set_axis_off()\n",
    "# draw cube\n",
    "r = [-1, 1]\n",
    "for s, e in combinations(np.array(list(product(r, r, r))), 2):\n",
    "    if np.sum(np.abs(s-e)) == r[1]-r[0]:\n",
    "        ax.plot3D(*zip(s, e), color=\"k\")\n",
    "\n",
    "yy, zz = np.meshgrid(linspace(-1,-0.8,3), linspace(-1,1,3))\n",
    "xx = yy*0-0.8\n",
    "ax.plot_surface(xx, yy, zz, alpha=0.2, color=\"k\")  \n",
    "\n",
    "yy, zz = np.meshgrid(linspace(-1,-0.8,3), linspace(-1,1,3))\n",
    "xx = yy*0-1\n",
    "ax.plot_surface(xx, yy, zz, alpha=1, color=\"k\")  \n",
    "        \n",
    "xx, zz = np.meshgrid(linspace(-1,-0.8,3), linspace(-1,1,3))\n",
    "yy = xx*0-1\n",
    "ax.plot_surface(xx, yy, zz, alpha=0.2, color=\"k\")  \n",
    "\n",
    "xx, zz = np.meshgrid(linspace(-1,-0.8,3), linspace(-1,1,3))\n",
    "yy = xx*0-0.8\n",
    "ax.plot_surface(xx, yy, zz, alpha=0.2, color=\"k\")  \n",
    "    \n",
    "    \n",
    "savefig(\"../Wp-taxonomy-2x2games/img/learning_cube_1.pdf\", bbox_inches = 'tight')"
   ]
  },
  {
   "cell_type": "code",
   "execution_count": 415,
   "metadata": {},
   "outputs": [
    {
     "data": {
      "text/plain": [
       "array([[-1. , -0.9, -0.8],\n",
       "       [-1. , -0.9, -0.8],\n",
       "       [-1. , -0.9, -0.8]])"
      ]
     },
     "execution_count": 415,
     "metadata": {},
     "output_type": "execute_result"
    }
   ],
   "source": [
    "yy, zz = np.meshgrid(linspace(-1,-0.8,3), linspace(0,1,3))\n",
    "xx = yy*0+0.2\n",
    "yy"
   ]
  },
  {
   "cell_type": "code",
   "execution_count": 437,
   "metadata": {},
   "outputs": [
    {
     "data": {
      "image/png": "[encoded data removed]",
      "text/plain": [
       "<Figure size 360x360 with 1 Axes>"
      ]
     },
     "metadata": {
      "needs_background": "light"
     },
     "output_type": "display_data"
    }
   ],
   "source": [
    "from mpl_toolkits.mplot3d import Axes3D\n",
    "import matplotlib.pyplot as plt\n",
    "import numpy as np\n",
    "from itertools import product, combinations\n",
    "\n",
    "rcParams['axes.labelsize'] = 20\n",
    "#rcParams['axes.'] = 20\n",
    "\n",
    "fig = plt.figure(figsize=(5,5))\n",
    "ax = fig.add_subplot(111, projection='3d')\n",
    "\n",
    "ax.w_xaxis.set_pane_color((1.0, 1.0, 1.0, 0.0))\n",
    "ax.w_yaxis.set_pane_color((1.0, 1.0, 1.0, 0.0))\n",
    "ax.w_zaxis.set_pane_color((1.0, 1.0, 1.0, 0.0))\n",
    "ax.w_xaxis.line.set_color((1.0, 1.0, 1.0, 0.0))\n",
    "ax.w_yaxis.line.set_color((1.0, 1.0, 1.0, 0.0))\n",
    "ax.w_zaxis.line.set_color((1.0, 1.0, 1.0, 0.0))\n",
    "\n",
    "# Get rid of the ticks\n",
    "ax.set_xticks([-1,1]) \n",
    "ax.set_yticks([-1,1]) \n",
    "ax.set_zticks([-1,1])\n",
    "\n",
    "ax.tick_params(axis='x', which='major', pad=-3)\n",
    "ax.tick_params(axis='y', which='major', pad=-3)\n",
    "ax.tick_params(axis='z', which='major', pad=0)\n",
    "\n",
    "ax.set_xticklabels([\"0\",\"1\"],fontsize=20,ha=\"right\") \n",
    "ax.set_yticklabels([\"0\",r'$\\infty$'],fontsize=20,ha=\"left\") \n",
    "ax.set_zticklabels([\"0\",\"1\"],fontsize=20,ha=\"center\",va=\"center\") \n",
    "\n",
    "# Add the labels\n",
    "ax.set_xlabel(r'$\\alpha$',labelpad=-10 )\n",
    "ax.set_ylabel(r'$\\beta$',labelpad=-10)\n",
    "ax.set_zlabel(r'$\\delta$',labelpad=-10)\n",
    "\n",
    "#ax.set_aspect(\"equal\")\n",
    "#ax.set_axis_off()\n",
    "# draw cube\n",
    "r = [-1, 1]\n",
    "for s, e in combinations(np.array(list(product(r, r, r))), 2):\n",
    "    if np.sum(np.abs(s-e)) == r[1]-r[0]:\n",
    "        ax.plot3D(*zip(s, e), color=\"k\")\n",
    "\n",
    "xx,yy = np.meshgrid(linspace(-1,1,3), linspace(-1,1,3))\n",
    "zz = yy*0-1\n",
    "ax.plot_surface(xx, yy, zz, alpha=0.7, color=\"#FF00FF\")        \n",
    "        \n",
    "plt.title(r'$\\delta=1$',fontsize=20)    \n",
    "    \n",
    "savefig(\"../Wp-taxonomy-2x2games/img/learning_cube_2.pdf\", bbox_inches = 'tight')"
   ]
  },
  {
   "cell_type": "code",
   "execution_count": 411,
   "metadata": {},
   "outputs": [],
   "source": [
    "?ax.voxels"
   ]
  },
  {
   "cell_type": "code",
   "execution_count": null,
   "metadata": {},
   "outputs": [],
   "source": []
  }
 ],
 "metadata": {
  "kernelspec": {
   "display_name": "Python 3",
   "language": "python",
   "name": "python3"
  },
  "language_info": {
   "codemirror_mode": {
    "name": "ipython",
    "version": 3
   },
   "file_extension": ".py",
   "mimetype": "text/x-python",
   "name": "python",
   "nbconvert_exporter": "python",
   "pygments_lexer": "ipython3",
   "version": "3.7.6"
  }
 },
 "nbformat": 4,
 "nbformat_minor": 4
}
