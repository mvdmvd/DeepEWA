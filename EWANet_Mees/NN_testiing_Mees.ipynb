{
 "cells": [
  {
   "cell_type": "code",
   "execution_count": 1,
   "metadata": {},
   "outputs": [],
   "source": [
    "include(\"/Users/meesvandartel/Desktop/Coursework/CGT/DeepEWA/DeepEWA_funs&structs.jl\")\n",
    "using Flux, Statistics, ProgressMeter, .EWA, Base.Iterators"
   ]
  },
  {
   "cell_type": "markdown",
   "metadata": {},
   "source": [
    "### 1.Make grid over param space\n",
    "#### 1.1 In some smart way (non-trivial games, endogenous grid)\n",
    "### 2. Run EWA to get labels, make cleaned dataset\n",
    "### 3. Train small NN to classify convergence properties\n",
    "### 4. Make graphs, etc"
   ]
  },
  {
   "cell_type": "code",
   "execution_count": 9,
   "metadata": {},
   "outputs": [
    {
     "data": {
      "text/plain": [
       "4-element Vector{Float64}:\n",
       " 0.0\n",
       " 0.0\n",
       " 0.0\n",
       " 0.0"
      ]
     },
     "execution_count": 9,
     "metadata": {},
     "output_type": "execute_result"
    }
   ],
   "source": [
    "LinGrid1 = 0:0.0001:1.0\n",
    "LinGridβ = logrange(1e-6, 999.0, 10000)\n",
    "\n",
    "pars = [0.0, 0.0, 0.0, 0.0]"
   ]
  },
  {
   "cell_type": "code",
   "execution_count": 10,
   "metadata": {},
   "outputs": [
    {
     "name": "stdout",
     "output_type": "stream",
     "text": [
      "Prior Q: [[0.0, 0.0], [0.0, 0.0]], prior N: 0.0\n",
      "Iter 2: σ=[[0.5, 0.5], [0.5, 0.5]], s=[2, 1], Q=[[0.0, 1.0], [1.0, 0.0]], N=2.0\n",
      "Iter 4: σ=[[0.5, 0.5], [0.5, 0.5]], s=[2, 2], Q=[[0.0, 1.75], [0.75, 1.0]], N=4.0\n",
      "Iter 6: σ=[[0.5, 0.5], [0.5, 0.5]], s=[2, 1], Q=[[0.16666666666666666, 1.3333333333333333], [0.6666666666666666, 0.8333333333333334]], N=6.0\n",
      "Iter 8: σ=[[0.5, 0.5], [0.5, 0.5]], s=[2, 1], Q=[[0.75, 1.125], [1.25, 0.625]], N=8.0\n",
      "Iter 10: σ=[[0.5, 0.5], [0.5, 0.5]], s=[2, 1], Q=[[0.6, 1.4], [1.1, 0.9]], N=10.0\n",
      "Iter 50: σ=[[0.5, 0.5], [0.5, 0.5]], s=[1, 1], Q=[[1.1599999999999997, 1.36], [1.4000000000000004, 1.12]], N=50.0\n",
      "Iter 100: σ=[[0.5, 0.5], [0.5, 0.5]], s=[2, 1], Q=[[1.18, 1.27], [1.3, 1.15]], N=100.0\n",
      "Converged at iter: 339\n"
     ]
    },
    {
     "data": {
      "text/plain": [
       "([[1.2823529411764705, 1.2764705882352954], [1.3558823529411763, 1.2029411764705895]], 340.0, [1, 1], [[0.5, 0.5], [0.5, 0.5]], false, true, [[1, 1], [2, 2]])"
      ]
     },
     "execution_count": 10,
     "metadata": {},
     "output_type": "execute_result"
    }
   ],
   "source": [
    "α, δ, κ, β = pars\n",
    "payoff = [[5 1; 1 4], [5 1; 1 4]] \n",
    "params = EWA.init_EWA(\n",
    "Q₀=[[0.0, 0.0], [0.0, 0.0]], N₀=0.0, # priors\n",
    "α=α, δ=δ, κ=κ, β=β, # params\n",
    "\n",
    "payoff=payoff)       \n",
    "Qₜ, Nₜ, sₜ, σₜ, lim_chaos, NE_found, NE = EWA.run_EWA_pure(params; print = false)"
   ]
  }
 ],
 "metadata": {
  "kernelspec": {
   "display_name": "Julia 1.11.4",
   "language": "julia",
   "name": "julia-1.11"
  },
  "language_info": {
   "file_extension": ".jl",
   "mimetype": "application/julia",
   "name": "julia",
   "version": "1.11.4"
  }
 },
 "nbformat": 4,
 "nbformat_minor": 2
}
